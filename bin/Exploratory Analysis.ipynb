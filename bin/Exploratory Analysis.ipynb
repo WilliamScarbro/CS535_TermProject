{
 "cells": [
  {
   "cell_type": "markdown",
   "id": "c8a4cd8b",
   "metadata": {},
   "source": [
    "<b>Importing Required libraries"
   ]
  },
  {
   "cell_type": "code",
   "execution_count": 3,
   "id": "d3d16a03",
   "metadata": {},
   "outputs": [],
   "source": [
    "import pandas as pd\n",
    "import numpy as np\n",
    "import matplotlib.pyplot as plt\n",
    "import re\n",
    "import seaborn as sns"
   ]
  },
  {
   "cell_type": "markdown",
   "id": "668d6289",
   "metadata": {},
   "source": [
    "<b>Reading datafiles"
   ]
  },
  {
   "cell_type": "code",
   "execution_count": 4,
   "id": "d56e4c28",
   "metadata": {},
   "outputs": [],
   "source": [
    "movies_pd=pd.read_csv('C:\\\\Users\\\\ranga\\\\OneDrive\\\\Desktop\\\\MovieLen Project\\\\ml-25m\\\\ml-25m\\\\movies.csv')\n",
    "rates_pd =pd.read_csv('C:\\\\Users\\\\ranga\\\\OneDrive\\\\Desktop\\\\MovieLen Project\\\\ml-25m\\\\ml-25m\\\\ratings.csv')\n",
    "links_pd=pd.read_csv('C:\\\\Users\\\\ranga\\\\OneDrive\\\\Desktop\\\\MovieLen Project\\\\ml-25m\\\\ml-25m\\\\links.csv')\n",
    "tags_pd=pd.read_csv('C:\\\\Users\\\\ranga\\\\OneDrive\\\\Desktop\\\\MovieLen Project\\\\ml-25m\\\\ml-25m\\\\tags.csv')\n",
    "genome_scores_pd=pd.read_csv('C:\\\\Users\\\\ranga\\\\OneDrive\\\\Desktop\\\\MovieLen Project\\\\ml-25m\\\\ml-25m\\\\genome-scores.csv')\n",
    "genome_tags_pd=pd.read_csv('C:\\\\Users\\\\ranga\\\\OneDrive\\\\Desktop\\\\MovieLen Project\\\\ml-25m\\\\ml-25m\\\\genome-tags.csv')"
   ]
  },
  {
   "cell_type": "markdown",
   "id": "c409eb5f",
   "metadata": {},
   "source": [
    "<b>Checking the data of each file"
   ]
  },
  {
   "cell_type": "code",
   "execution_count": 5,
   "id": "0c6e7778",
   "metadata": {
    "scrolled": true
   },
   "outputs": [
    {
     "data": {
      "text/html": [
       "<div>\n",
       "<style scoped>\n",
       "    .dataframe tbody tr th:only-of-type {\n",
       "        vertical-align: middle;\n",
       "    }\n",
       "\n",
       "    .dataframe tbody tr th {\n",
       "        vertical-align: top;\n",
       "    }\n",
       "\n",
       "    .dataframe thead th {\n",
       "        text-align: right;\n",
       "    }\n",
       "</style>\n",
       "<table border=\"1\" class=\"dataframe\">\n",
       "  <thead>\n",
       "    <tr style=\"text-align: right;\">\n",
       "      <th></th>\n",
       "      <th>movieId</th>\n",
       "      <th>title</th>\n",
       "      <th>genres</th>\n",
       "    </tr>\n",
       "  </thead>\n",
       "  <tbody>\n",
       "    <tr>\n",
       "      <th>0</th>\n",
       "      <td>1</td>\n",
       "      <td>Toy Story (1995)</td>\n",
       "      <td>Adventure|Animation|Children|Comedy|Fantasy</td>\n",
       "    </tr>\n",
       "    <tr>\n",
       "      <th>1</th>\n",
       "      <td>2</td>\n",
       "      <td>Jumanji (1995)</td>\n",
       "      <td>Adventure|Children|Fantasy</td>\n",
       "    </tr>\n",
       "    <tr>\n",
       "      <th>2</th>\n",
       "      <td>3</td>\n",
       "      <td>Grumpier Old Men (1995)</td>\n",
       "      <td>Comedy|Romance</td>\n",
       "    </tr>\n",
       "    <tr>\n",
       "      <th>3</th>\n",
       "      <td>4</td>\n",
       "      <td>Waiting to Exhale (1995)</td>\n",
       "      <td>Comedy|Drama|Romance</td>\n",
       "    </tr>\n",
       "    <tr>\n",
       "      <th>4</th>\n",
       "      <td>5</td>\n",
       "      <td>Father of the Bride Part II (1995)</td>\n",
       "      <td>Comedy</td>\n",
       "    </tr>\n",
       "  </tbody>\n",
       "</table>\n",
       "</div>"
      ],
      "text/plain": [
       "   movieId                               title  \\\n",
       "0        1                    Toy Story (1995)   \n",
       "1        2                      Jumanji (1995)   \n",
       "2        3             Grumpier Old Men (1995)   \n",
       "3        4            Waiting to Exhale (1995)   \n",
       "4        5  Father of the Bride Part II (1995)   \n",
       "\n",
       "                                        genres  \n",
       "0  Adventure|Animation|Children|Comedy|Fantasy  \n",
       "1                   Adventure|Children|Fantasy  \n",
       "2                               Comedy|Romance  \n",
       "3                         Comedy|Drama|Romance  \n",
       "4                                       Comedy  "
      ]
     },
     "execution_count": 5,
     "metadata": {},
     "output_type": "execute_result"
    }
   ],
   "source": [
    "movies_pd.head()"
   ]
  },
  {
   "cell_type": "code",
   "execution_count": 6,
   "id": "9b7d90b5",
   "metadata": {
    "scrolled": false
   },
   "outputs": [
    {
     "data": {
      "text/html": [
       "<div>\n",
       "<style scoped>\n",
       "    .dataframe tbody tr th:only-of-type {\n",
       "        vertical-align: middle;\n",
       "    }\n",
       "\n",
       "    .dataframe tbody tr th {\n",
       "        vertical-align: top;\n",
       "    }\n",
       "\n",
       "    .dataframe thead th {\n",
       "        text-align: right;\n",
       "    }\n",
       "</style>\n",
       "<table border=\"1\" class=\"dataframe\">\n",
       "  <thead>\n",
       "    <tr style=\"text-align: right;\">\n",
       "      <th></th>\n",
       "      <th>userId</th>\n",
       "      <th>movieId</th>\n",
       "      <th>rating</th>\n",
       "      <th>timestamp</th>\n",
       "    </tr>\n",
       "  </thead>\n",
       "  <tbody>\n",
       "    <tr>\n",
       "      <th>0</th>\n",
       "      <td>1</td>\n",
       "      <td>296</td>\n",
       "      <td>5.0</td>\n",
       "      <td>1147880044</td>\n",
       "    </tr>\n",
       "    <tr>\n",
       "      <th>1</th>\n",
       "      <td>1</td>\n",
       "      <td>306</td>\n",
       "      <td>3.5</td>\n",
       "      <td>1147868817</td>\n",
       "    </tr>\n",
       "    <tr>\n",
       "      <th>2</th>\n",
       "      <td>1</td>\n",
       "      <td>307</td>\n",
       "      <td>5.0</td>\n",
       "      <td>1147868828</td>\n",
       "    </tr>\n",
       "    <tr>\n",
       "      <th>3</th>\n",
       "      <td>1</td>\n",
       "      <td>665</td>\n",
       "      <td>5.0</td>\n",
       "      <td>1147878820</td>\n",
       "    </tr>\n",
       "    <tr>\n",
       "      <th>4</th>\n",
       "      <td>1</td>\n",
       "      <td>899</td>\n",
       "      <td>3.5</td>\n",
       "      <td>1147868510</td>\n",
       "    </tr>\n",
       "  </tbody>\n",
       "</table>\n",
       "</div>"
      ],
      "text/plain": [
       "   userId  movieId  rating   timestamp\n",
       "0       1      296     5.0  1147880044\n",
       "1       1      306     3.5  1147868817\n",
       "2       1      307     5.0  1147868828\n",
       "3       1      665     5.0  1147878820\n",
       "4       1      899     3.5  1147868510"
      ]
     },
     "execution_count": 6,
     "metadata": {},
     "output_type": "execute_result"
    }
   ],
   "source": [
    "rates_pd.head()"
   ]
  },
  {
   "cell_type": "code",
   "execution_count": 7,
   "id": "dceb365f",
   "metadata": {},
   "outputs": [
    {
     "data": {
      "text/html": [
       "<div>\n",
       "<style scoped>\n",
       "    .dataframe tbody tr th:only-of-type {\n",
       "        vertical-align: middle;\n",
       "    }\n",
       "\n",
       "    .dataframe tbody tr th {\n",
       "        vertical-align: top;\n",
       "    }\n",
       "\n",
       "    .dataframe thead th {\n",
       "        text-align: right;\n",
       "    }\n",
       "</style>\n",
       "<table border=\"1\" class=\"dataframe\">\n",
       "  <thead>\n",
       "    <tr style=\"text-align: right;\">\n",
       "      <th></th>\n",
       "      <th>movieId</th>\n",
       "      <th>imdbId</th>\n",
       "      <th>tmdbId</th>\n",
       "    </tr>\n",
       "  </thead>\n",
       "  <tbody>\n",
       "    <tr>\n",
       "      <th>0</th>\n",
       "      <td>1</td>\n",
       "      <td>114709</td>\n",
       "      <td>862.0</td>\n",
       "    </tr>\n",
       "    <tr>\n",
       "      <th>1</th>\n",
       "      <td>2</td>\n",
       "      <td>113497</td>\n",
       "      <td>8844.0</td>\n",
       "    </tr>\n",
       "    <tr>\n",
       "      <th>2</th>\n",
       "      <td>3</td>\n",
       "      <td>113228</td>\n",
       "      <td>15602.0</td>\n",
       "    </tr>\n",
       "    <tr>\n",
       "      <th>3</th>\n",
       "      <td>4</td>\n",
       "      <td>114885</td>\n",
       "      <td>31357.0</td>\n",
       "    </tr>\n",
       "    <tr>\n",
       "      <th>4</th>\n",
       "      <td>5</td>\n",
       "      <td>113041</td>\n",
       "      <td>11862.0</td>\n",
       "    </tr>\n",
       "  </tbody>\n",
       "</table>\n",
       "</div>"
      ],
      "text/plain": [
       "   movieId  imdbId   tmdbId\n",
       "0        1  114709    862.0\n",
       "1        2  113497   8844.0\n",
       "2        3  113228  15602.0\n",
       "3        4  114885  31357.0\n",
       "4        5  113041  11862.0"
      ]
     },
     "execution_count": 7,
     "metadata": {},
     "output_type": "execute_result"
    }
   ],
   "source": [
    "links_pd.head()"
   ]
  },
  {
   "cell_type": "code",
   "execution_count": 8,
   "id": "b7f73826",
   "metadata": {},
   "outputs": [
    {
     "data": {
      "text/html": [
       "<div>\n",
       "<style scoped>\n",
       "    .dataframe tbody tr th:only-of-type {\n",
       "        vertical-align: middle;\n",
       "    }\n",
       "\n",
       "    .dataframe tbody tr th {\n",
       "        vertical-align: top;\n",
       "    }\n",
       "\n",
       "    .dataframe thead th {\n",
       "        text-align: right;\n",
       "    }\n",
       "</style>\n",
       "<table border=\"1\" class=\"dataframe\">\n",
       "  <thead>\n",
       "    <tr style=\"text-align: right;\">\n",
       "      <th></th>\n",
       "      <th>userId</th>\n",
       "      <th>movieId</th>\n",
       "      <th>tag</th>\n",
       "      <th>timestamp</th>\n",
       "    </tr>\n",
       "  </thead>\n",
       "  <tbody>\n",
       "    <tr>\n",
       "      <th>0</th>\n",
       "      <td>3</td>\n",
       "      <td>260</td>\n",
       "      <td>classic</td>\n",
       "      <td>1439472355</td>\n",
       "    </tr>\n",
       "    <tr>\n",
       "      <th>1</th>\n",
       "      <td>3</td>\n",
       "      <td>260</td>\n",
       "      <td>sci-fi</td>\n",
       "      <td>1439472256</td>\n",
       "    </tr>\n",
       "    <tr>\n",
       "      <th>2</th>\n",
       "      <td>4</td>\n",
       "      <td>1732</td>\n",
       "      <td>dark comedy</td>\n",
       "      <td>1573943598</td>\n",
       "    </tr>\n",
       "    <tr>\n",
       "      <th>3</th>\n",
       "      <td>4</td>\n",
       "      <td>1732</td>\n",
       "      <td>great dialogue</td>\n",
       "      <td>1573943604</td>\n",
       "    </tr>\n",
       "    <tr>\n",
       "      <th>4</th>\n",
       "      <td>4</td>\n",
       "      <td>7569</td>\n",
       "      <td>so bad it's good</td>\n",
       "      <td>1573943455</td>\n",
       "    </tr>\n",
       "  </tbody>\n",
       "</table>\n",
       "</div>"
      ],
      "text/plain": [
       "   userId  movieId               tag   timestamp\n",
       "0       3      260           classic  1439472355\n",
       "1       3      260            sci-fi  1439472256\n",
       "2       4     1732       dark comedy  1573943598\n",
       "3       4     1732    great dialogue  1573943604\n",
       "4       4     7569  so bad it's good  1573943455"
      ]
     },
     "execution_count": 8,
     "metadata": {},
     "output_type": "execute_result"
    }
   ],
   "source": [
    "tags_pd.head()"
   ]
  },
  {
   "cell_type": "code",
   "execution_count": 9,
   "id": "fa984de7",
   "metadata": {},
   "outputs": [
    {
     "data": {
      "text/html": [
       "<div>\n",
       "<style scoped>\n",
       "    .dataframe tbody tr th:only-of-type {\n",
       "        vertical-align: middle;\n",
       "    }\n",
       "\n",
       "    .dataframe tbody tr th {\n",
       "        vertical-align: top;\n",
       "    }\n",
       "\n",
       "    .dataframe thead th {\n",
       "        text-align: right;\n",
       "    }\n",
       "</style>\n",
       "<table border=\"1\" class=\"dataframe\">\n",
       "  <thead>\n",
       "    <tr style=\"text-align: right;\">\n",
       "      <th></th>\n",
       "      <th>movieId</th>\n",
       "      <th>tagId</th>\n",
       "      <th>relevance</th>\n",
       "    </tr>\n",
       "  </thead>\n",
       "  <tbody>\n",
       "    <tr>\n",
       "      <th>0</th>\n",
       "      <td>1</td>\n",
       "      <td>1</td>\n",
       "      <td>0.02875</td>\n",
       "    </tr>\n",
       "    <tr>\n",
       "      <th>1</th>\n",
       "      <td>1</td>\n",
       "      <td>2</td>\n",
       "      <td>0.02375</td>\n",
       "    </tr>\n",
       "    <tr>\n",
       "      <th>2</th>\n",
       "      <td>1</td>\n",
       "      <td>3</td>\n",
       "      <td>0.06250</td>\n",
       "    </tr>\n",
       "    <tr>\n",
       "      <th>3</th>\n",
       "      <td>1</td>\n",
       "      <td>4</td>\n",
       "      <td>0.07575</td>\n",
       "    </tr>\n",
       "    <tr>\n",
       "      <th>4</th>\n",
       "      <td>1</td>\n",
       "      <td>5</td>\n",
       "      <td>0.14075</td>\n",
       "    </tr>\n",
       "  </tbody>\n",
       "</table>\n",
       "</div>"
      ],
      "text/plain": [
       "   movieId  tagId  relevance\n",
       "0        1      1    0.02875\n",
       "1        1      2    0.02375\n",
       "2        1      3    0.06250\n",
       "3        1      4    0.07575\n",
       "4        1      5    0.14075"
      ]
     },
     "execution_count": 9,
     "metadata": {},
     "output_type": "execute_result"
    }
   ],
   "source": [
    "genome_scores_pd.head()"
   ]
  },
  {
   "cell_type": "code",
   "execution_count": 10,
   "id": "91c83ceb",
   "metadata": {},
   "outputs": [
    {
     "data": {
      "text/html": [
       "<div>\n",
       "<style scoped>\n",
       "    .dataframe tbody tr th:only-of-type {\n",
       "        vertical-align: middle;\n",
       "    }\n",
       "\n",
       "    .dataframe tbody tr th {\n",
       "        vertical-align: top;\n",
       "    }\n",
       "\n",
       "    .dataframe thead th {\n",
       "        text-align: right;\n",
       "    }\n",
       "</style>\n",
       "<table border=\"1\" class=\"dataframe\">\n",
       "  <thead>\n",
       "    <tr style=\"text-align: right;\">\n",
       "      <th></th>\n",
       "      <th>tagId</th>\n",
       "      <th>tag</th>\n",
       "    </tr>\n",
       "  </thead>\n",
       "  <tbody>\n",
       "    <tr>\n",
       "      <th>0</th>\n",
       "      <td>1</td>\n",
       "      <td>007</td>\n",
       "    </tr>\n",
       "    <tr>\n",
       "      <th>1</th>\n",
       "      <td>2</td>\n",
       "      <td>007 (series)</td>\n",
       "    </tr>\n",
       "    <tr>\n",
       "      <th>2</th>\n",
       "      <td>3</td>\n",
       "      <td>18th century</td>\n",
       "    </tr>\n",
       "    <tr>\n",
       "      <th>3</th>\n",
       "      <td>4</td>\n",
       "      <td>1920s</td>\n",
       "    </tr>\n",
       "    <tr>\n",
       "      <th>4</th>\n",
       "      <td>5</td>\n",
       "      <td>1930s</td>\n",
       "    </tr>\n",
       "  </tbody>\n",
       "</table>\n",
       "</div>"
      ],
      "text/plain": [
       "   tagId           tag\n",
       "0      1           007\n",
       "1      2  007 (series)\n",
       "2      3  18th century\n",
       "3      4         1920s\n",
       "4      5         1930s"
      ]
     },
     "execution_count": 10,
     "metadata": {},
     "output_type": "execute_result"
    }
   ],
   "source": [
    "genome_tags_pd.head()"
   ]
  },
  {
   "cell_type": "markdown",
   "id": "0ce771f8",
   "metadata": {},
   "source": [
    "<b>We convert timestamp to normal date form and only extract years."
   ]
  },
  {
   "cell_type": "code",
   "execution_count": 11,
   "id": "d4d2dced",
   "metadata": {},
   "outputs": [],
   "source": [
    "import datetime\n",
    "def convert_time(timestamp):\n",
    "    date=datetime.datetime.fromtimestamp(\n",
    "    int(timestamp)).strftime('%Y-%m-%d %H:%M:%S')\n",
    "    return int(date[0:4])\n",
    "rates_pd['year']=rates_pd['timestamp'].apply(convert_time)"
   ]
  },
  {
   "cell_type": "code",
   "execution_count": 12,
   "id": "e22f33d7",
   "metadata": {
    "scrolled": false
   },
   "outputs": [
    {
     "data": {
      "image/png": "[encoded data removed]",
      "text/plain": [
       "<Figure size 720x360 with 1 Axes>"
      ]
     },
     "metadata": {
      "needs_background": "light"
     },
     "output_type": "display_data"
    }
   ],
   "source": [
    "rates_pd[['year', 'rating']].groupby(['year']).count().reset_index().plot.bar(x='year', y='rating', title='Number of ratings per year', figsize=(10, 5));"
   ]
  },
  {
   "cell_type": "code",
   "execution_count": 14,
   "id": "9521862e",
   "metadata": {},
   "outputs": [],
   "source": [
    "import datetime\n",
    "def get_month(timestamp):\n",
    "    date=datetime.datetime.fromtimestamp(\n",
    "    int(timestamp)).strftime('%Y-%m-%d %H:%M:%S')\n",
    "    return int(date[5:7])\n",
    "rates_pd['month']=rates_pd['timestamp'].apply(get_month)"
   ]
  },
  {
   "cell_type": "code",
   "execution_count": 15,
   "id": "03e947d3",
   "metadata": {},
   "outputs": [
    {
     "data": {
      "text/html": [
       "<div>\n",
       "<style scoped>\n",
       "    .dataframe tbody tr th:only-of-type {\n",
       "        vertical-align: middle;\n",
       "    }\n",
       "\n",
       "    .dataframe tbody tr th {\n",
       "        vertical-align: top;\n",
       "    }\n",
       "\n",
       "    .dataframe thead th {\n",
       "        text-align: right;\n",
       "    }\n",
       "</style>\n",
       "<table border=\"1\" class=\"dataframe\">\n",
       "  <thead>\n",
       "    <tr style=\"text-align: right;\">\n",
       "      <th></th>\n",
       "      <th>userId</th>\n",
       "      <th>movieId</th>\n",
       "      <th>rating</th>\n",
       "      <th>timestamp</th>\n",
       "      <th>year</th>\n",
       "      <th>month</th>\n",
       "    </tr>\n",
       "  </thead>\n",
       "  <tbody>\n",
       "    <tr>\n",
       "      <th>0</th>\n",
       "      <td>1</td>\n",
       "      <td>296</td>\n",
       "      <td>5.0</td>\n",
       "      <td>1147880044</td>\n",
       "      <td>2006</td>\n",
       "      <td>5</td>\n",
       "    </tr>\n",
       "    <tr>\n",
       "      <th>1</th>\n",
       "      <td>1</td>\n",
       "      <td>306</td>\n",
       "      <td>3.5</td>\n",
       "      <td>1147868817</td>\n",
       "      <td>2006</td>\n",
       "      <td>5</td>\n",
       "    </tr>\n",
       "    <tr>\n",
       "      <th>2</th>\n",
       "      <td>1</td>\n",
       "      <td>307</td>\n",
       "      <td>5.0</td>\n",
       "      <td>1147868828</td>\n",
       "      <td>2006</td>\n",
       "      <td>5</td>\n",
       "    </tr>\n",
       "    <tr>\n",
       "      <th>3</th>\n",
       "      <td>1</td>\n",
       "      <td>665</td>\n",
       "      <td>5.0</td>\n",
       "      <td>1147878820</td>\n",
       "      <td>2006</td>\n",
       "      <td>5</td>\n",
       "    </tr>\n",
       "    <tr>\n",
       "      <th>4</th>\n",
       "      <td>1</td>\n",
       "      <td>899</td>\n",
       "      <td>3.5</td>\n",
       "      <td>1147868510</td>\n",
       "      <td>2006</td>\n",
       "      <td>5</td>\n",
       "    </tr>\n",
       "  </tbody>\n",
       "</table>\n",
       "</div>"
      ],
      "text/plain": [
       "   userId  movieId  rating   timestamp  year  month\n",
       "0       1      296     5.0  1147880044  2006      5\n",
       "1       1      306     3.5  1147868817  2006      5\n",
       "2       1      307     5.0  1147868828  2006      5\n",
       "3       1      665     5.0  1147878820  2006      5\n",
       "4       1      899     3.5  1147868510  2006      5"
      ]
     },
     "execution_count": 15,
     "metadata": {},
     "output_type": "execute_result"
    }
   ],
   "source": [
    "rates_pd.head()"
   ]
  },
  {
   "cell_type": "code",
   "execution_count": 16,
   "id": "607d7c92",
   "metadata": {},
   "outputs": [
    {
     "data": {
      "image/png": "[encoded data removed]",
      "text/plain": [
       "<Figure size 720x360 with 1 Axes>"
      ]
     },
     "metadata": {
      "needs_background": "light"
     },
     "output_type": "display_data"
    }
   ],
   "source": [
    "df_temp = rates_pd[['month', 'rating']].groupby(['month']).count().reset_index()\n",
    "df_temp['rating'] = df_temp['rating'] / 4\n",
    "df_temp.plot.bar(x='month', y='rating', title='Average number of ratings per month', figsize=(10, 5));"
   ]
  },
  {
   "cell_type": "markdown",
   "id": "bc3f4289",
   "metadata": {},
   "source": [
    "<b>Next, we calculate the average rating over all movies in each year."
   ]
  },
  {
   "cell_type": "code",
   "execution_count": 14,
   "id": "63cff92f",
   "metadata": {},
   "outputs": [],
   "source": [
    "avg_rates_year=rates_pd[['year','rating']].groupby('year').mean()"
   ]
  },
  {
   "cell_type": "markdown",
   "id": "212278a0",
   "metadata": {},
   "source": [
    "<b>We extract the publication years of all movies."
   ]
  },
  {
   "cell_type": "code",
   "execution_count": 16,
   "id": "dd212cce",
   "metadata": {},
   "outputs": [],
   "source": [
    "def year(title):\n",
    "    year=re.search(r'\\(\\d{4}\\)', title)\n",
    "    if year:\n",
    "       year=year.group()\n",
    "       return int(year[1:5])\n",
    "    else:\n",
    "        return 0\n",
    "movies_pd['year']=movies_pd['title'].apply(year)"
   ]
  },
  {
   "cell_type": "markdown",
   "id": "dd5360f4",
   "metadata": {},
   "source": [
    "<b>Since there are some titles in movies_pd don’t have year, the years we extracted in the way above are not valid. We set year to be 0 for those movies."
   ]
  },
  {
   "cell_type": "code",
   "execution_count": 17,
   "id": "2f6ac0fd",
   "metadata": {},
   "outputs": [],
   "source": [
    "sub=movies_pd[movies_pd['year']!=0]"
   ]
  },
  {
   "cell_type": "code",
   "execution_count": 20,
   "id": "a780e758",
   "metadata": {},
   "outputs": [
    {
     "data": {
      "image/png": "[encoded data removed]",
      "text/plain": [
       "<Figure size 1440x864 with 2 Axes>"
      ]
     },
     "metadata": {
      "needs_background": "light"
     },
     "output_type": "display_data"
    }
   ],
   "source": [
    "fig1, (ax3,ax4) = plt.subplots(2,1,figsize=(20,12))\n",
    "plt.subplot(211)\n",
    "plt.plot(sub.groupby(['year']).count()['title'])\n",
    "plt.title('Number of movies vs Years',fontsize=16)\n",
    " \n",
    "plt.subplot(212)\n",
    "a2=plt.plot(avg_rates_year)\n",
    "plt.title('Average ratings vs genres',fontsize=16)\n",
    "plt.grid(True)\n",
    "plt.tight_layout()\n",
    "fig1.savefig('Number of Movies and average ratings VS years.jpg')"
   ]
  },
  {
   "cell_type": "markdown",
   "id": "27efa74a",
   "metadata": {},
   "source": [
    "<b>The picture shows that there is a great increment of the movies after 2009. But the average ratings over all movies in each year vary not that much, just from 3.40 to 3.7."
   ]
  },
  {
   "cell_type": "markdown",
   "id": "91bb9bf1",
   "metadata": {},
   "source": [
    "<b>Next we extract all genres for all movies. That is, for a given genre, we would like to know which movies belong to it."
   ]
  },
  {
   "cell_type": "code",
   "execution_count": 22,
   "id": "481af706",
   "metadata": {},
   "outputs": [],
   "source": [
    "import re\n",
    "def genres_str(x):\n",
    "    if x=='(no genres listed)':\n",
    "        keys=['no_genres']\n",
    "    else:\n",
    "        keys= re.sub('[|]', ' ', x)\n",
    "        keys=keys.split()\n",
    "    return keys\n",
    "movies_pd['genres_split']=movies_pd['genres'].apply(genres_str)\n",
    " \n",
    "all_genres=['Action','Adventure','Animation',\"Children\",\n",
    " \"Comedy\",\"Crime\",\"Documentary\",\"Drama\",\n",
    " \"Fantasy\",'Film-Noir','Horror','Musical',\n",
    " 'Mystery','Romance','Sci-Fi','Thriller',\n",
    " 'War','Western','IMAX','no_genres']\n",
    "values=[]\n",
    "for i in range(len(all_genres)):\n",
    "    values.append([])\n",
    "genres_classify=dict(zip(all_genres, values))\n",
    " \n",
    "for i in range(movies_pd.shape[0]):\n",
    "     for genre in movies_pd.loc[i,'genres_split']:\n",
    "         genres_classify[genre].append(movies_pd.loc[i,'movieId'])\n"
   ]
  },
  {
   "cell_type": "markdown",
   "id": "e47144b4",
   "metadata": {},
   "source": [
    "<b>Now we can consider the  distributions of the ratings for each genre."
   ]
  },
  {
   "cell_type": "code",
   "execution_count": 23,
   "id": "51fb78f7",
   "metadata": {},
   "outputs": [],
   "source": [
    "data=[]\n",
    "for g in all_genres:\n",
    "    sub=np.array(rates_pd[rates_pd['movieId'].isin(genres_classify[g])].rating)\n",
    "    data.append(sub)"
   ]
  },
  {
   "cell_type": "code",
   "execution_count": 26,
   "id": "343a6bc7",
   "metadata": {},
   "outputs": [
    {
     "name": "stderr",
     "output_type": "stream",
     "text": [
      "C:\\Users\\ranga\\AppData\\Local\\Temp/ipykernel_19184/661448954.py:4: MatplotlibDeprecationWarning: \n",
      "The set_window_title function was deprecated in Matplotlib 3.4 and will be removed two minor releases later. Use manager.set_window_title or GUI-specific methods instead.\n",
      "  fig.canvas.set_window_title('Boxplot of Movie Ratings VS Genres')\n"
     ]
    },
    {
     "data": {
      "image/png": "[encoded data removed]",
      "text/plain": [
       "<Figure size 1440x864 with 1 Axes>"
      ]
     },
     "metadata": {
      "needs_background": "light"
     },
     "output_type": "display_data"
    }
   ],
   "source": [
    "from matplotlib.patches import Polygon\n",
    "\n",
    "fig, ax1 = plt.subplots(figsize=(20, 12))\n",
    "fig.canvas.set_window_title('Boxplot of Movie Ratings VS Genres')\n",
    "plt.subplots_adjust(left=0.075, right=0.95, top=0.9, bottom=0.25)\n",
    " \n",
    "bp = plt.boxplot(data, notch=0, sym='+', vert=1, whis=1.5)\n",
    "plt.setp(bp['boxes'], color='black')\n",
    "\n",
    "\n",
    "ax1.yaxis.grid(True, linestyle='-', which='major', color='lightgrey',\n",
    " alpha=0.5)\n",
    " \n",
    "\n",
    "ax1.set_axisbelow(True)\n",
    "ax1.set_title('Ratings vs movie genres')\n",
    "ax1.set_xlabel('Movie Genres')\n",
    "ax1.set_ylabel('ratings')\n",
    " \n",
    "boxColors = ['darkkhaki', 'royalblue']\n",
    "plt.setp(bp['whiskers'], color='green')\n",
    "numBoxes=20\n",
    " \n",
    "medians = list(range(numBoxes))\n",
    "for i in range(numBoxes):\n",
    " box = bp['boxes'][i]\n",
    " boxX = []\n",
    " boxY = []\n",
    " for j in range(5):\n",
    "     boxX.append(box.get_xdata()[j])\n",
    "     boxY.append(box.get_ydata()[j])\n",
    "     boxCoords = list(zip(boxX, boxY))\n",
    "     k = i % 2\n",
    "     boxPolygon = Polygon(boxCoords, facecolor=boxColors[k])\n",
    "     ax1.add_patch(boxPolygon)\n",
    "     med = bp['medians'][i]\n",
    "     medianX = []\n",
    "     medianY = []\n",
    "     for j in range(2):\n",
    "         medianX.append(med.get_xdata()[j])\n",
    "         medianY.append(med.get_ydata()[j])\n",
    "         plt.plot(medianX, medianY, 'k')\n",
    "         medians[i] = medianY[0]\n",
    "         plt.plot([np.average(med.get_xdata())], [np.average(data[i])],\n",
    "         color='w', marker='*', markeredgecolor='k')\n",
    "\n",
    "ax1.set_xlim(0.5, numBoxes + 0.5)\n",
    "top = 6\n",
    "bottom = 0\n",
    "ax1.set_ylim(bottom, top)\n",
    "xtickNames = plt.setp(ax1, xticklabels=all_genres)\n",
    "plt.setp(xtickNames, rotation=90, fontsize=12)\n",
    "plt.savefig('genres_ratings.png')"
   ]
  },
  {
   "cell_type": "markdown",
   "id": "7677a8af",
   "metadata": {},
   "source": [
    "<b>Next we make ranks by the number of movies in different genres and the number of ratings for all genres."
   ]
  },
  {
   "cell_type": "code",
   "execution_count": 29,
   "id": "b8939702",
   "metadata": {},
   "outputs": [
    {
     "data": {
      "text/html": [
       "<div>\n",
       "<style scoped>\n",
       "    .dataframe tbody tr th:only-of-type {\n",
       "        vertical-align: middle;\n",
       "    }\n",
       "\n",
       "    .dataframe tbody tr th {\n",
       "        vertical-align: top;\n",
       "    }\n",
       "\n",
       "    .dataframe thead th {\n",
       "        text-align: right;\n",
       "    }\n",
       "</style>\n",
       "<table border=\"1\" class=\"dataframe\">\n",
       "  <thead>\n",
       "    <tr style=\"text-align: right;\">\n",
       "      <th></th>\n",
       "      <th>genre</th>\n",
       "      <th>numbers</th>\n",
       "    </tr>\n",
       "  </thead>\n",
       "  <tbody>\n",
       "    <tr>\n",
       "      <th>0</th>\n",
       "      <td>Action</td>\n",
       "      <td>7348</td>\n",
       "    </tr>\n",
       "    <tr>\n",
       "      <th>1</th>\n",
       "      <td>Adventure</td>\n",
       "      <td>4145</td>\n",
       "    </tr>\n",
       "    <tr>\n",
       "      <th>2</th>\n",
       "      <td>Animation</td>\n",
       "      <td>2929</td>\n",
       "    </tr>\n",
       "    <tr>\n",
       "      <th>3</th>\n",
       "      <td>Children</td>\n",
       "      <td>2935</td>\n",
       "    </tr>\n",
       "    <tr>\n",
       "      <th>4</th>\n",
       "      <td>Comedy</td>\n",
       "      <td>16870</td>\n",
       "    </tr>\n",
       "    <tr>\n",
       "      <th>5</th>\n",
       "      <td>Crime</td>\n",
       "      <td>5319</td>\n",
       "    </tr>\n",
       "    <tr>\n",
       "      <th>6</th>\n",
       "      <td>Documentary</td>\n",
       "      <td>5605</td>\n",
       "    </tr>\n",
       "    <tr>\n",
       "      <th>7</th>\n",
       "      <td>Drama</td>\n",
       "      <td>25606</td>\n",
       "    </tr>\n",
       "    <tr>\n",
       "      <th>8</th>\n",
       "      <td>Fantasy</td>\n",
       "      <td>2731</td>\n",
       "    </tr>\n",
       "    <tr>\n",
       "      <th>9</th>\n",
       "      <td>Film-Noir</td>\n",
       "      <td>353</td>\n",
       "    </tr>\n",
       "    <tr>\n",
       "      <th>10</th>\n",
       "      <td>Horror</td>\n",
       "      <td>5989</td>\n",
       "    </tr>\n",
       "    <tr>\n",
       "      <th>11</th>\n",
       "      <td>Musical</td>\n",
       "      <td>1054</td>\n",
       "    </tr>\n",
       "    <tr>\n",
       "      <th>12</th>\n",
       "      <td>Mystery</td>\n",
       "      <td>2925</td>\n",
       "    </tr>\n",
       "    <tr>\n",
       "      <th>13</th>\n",
       "      <td>Romance</td>\n",
       "      <td>7719</td>\n",
       "    </tr>\n",
       "    <tr>\n",
       "      <th>14</th>\n",
       "      <td>Sci-Fi</td>\n",
       "      <td>3595</td>\n",
       "    </tr>\n",
       "    <tr>\n",
       "      <th>15</th>\n",
       "      <td>Thriller</td>\n",
       "      <td>8654</td>\n",
       "    </tr>\n",
       "    <tr>\n",
       "      <th>16</th>\n",
       "      <td>War</td>\n",
       "      <td>1874</td>\n",
       "    </tr>\n",
       "    <tr>\n",
       "      <th>17</th>\n",
       "      <td>Western</td>\n",
       "      <td>1399</td>\n",
       "    </tr>\n",
       "    <tr>\n",
       "      <th>18</th>\n",
       "      <td>IMAX</td>\n",
       "      <td>195</td>\n",
       "    </tr>\n",
       "    <tr>\n",
       "      <th>19</th>\n",
       "      <td>no_genres</td>\n",
       "      <td>5062</td>\n",
       "    </tr>\n",
       "  </tbody>\n",
       "</table>\n",
       "</div>"
      ],
      "text/plain": [
       "          genre  numbers\n",
       "0        Action     7348\n",
       "1     Adventure     4145\n",
       "2     Animation     2929\n",
       "3      Children     2935\n",
       "4        Comedy    16870\n",
       "5         Crime     5319\n",
       "6   Documentary     5605\n",
       "7         Drama    25606\n",
       "8       Fantasy     2731\n",
       "9     Film-Noir      353\n",
       "10       Horror     5989\n",
       "11      Musical     1054\n",
       "12      Mystery     2925\n",
       "13      Romance     7719\n",
       "14       Sci-Fi     3595\n",
       "15     Thriller     8654\n",
       "16          War     1874\n",
       "17      Western     1399\n",
       "18         IMAX      195\n",
       "19    no_genres     5062"
      ]
     },
     "execution_count": 29,
     "metadata": {},
     "output_type": "execute_result"
    }
   ],
   "source": [
    "import operator\n",
    "common={}\n",
    "for g in genres_classify:\n",
    " common[g]=len(genres_classify[g])\n",
    "common_sort= sorted(common.items(), key=operator.itemgetter(1))\n",
    "common_pd=pd.DataFrame(common.items(),columns=['genre', 'numbers'])\n",
    "common_pd"
   ]
  },
  {
   "cell_type": "markdown",
   "id": "d5f108f9",
   "metadata": {},
   "source": [
    "<b>We can see that Drama is the most common genre; Comedy is the second. The most uncommon genre is Film-Noir."
   ]
  },
  {
   "cell_type": "code",
   "execution_count": 32,
   "id": "d2c13d9b",
   "metadata": {},
   "outputs": [
    {
     "data": {
      "text/html": [
       "<div>\n",
       "<style scoped>\n",
       "    .dataframe tbody tr th:only-of-type {\n",
       "        vertical-align: middle;\n",
       "    }\n",
       "\n",
       "    .dataframe tbody tr th {\n",
       "        vertical-align: top;\n",
       "    }\n",
       "\n",
       "    .dataframe thead th {\n",
       "        text-align: right;\n",
       "    }\n",
       "</style>\n",
       "<table border=\"1\" class=\"dataframe\">\n",
       "  <thead>\n",
       "    <tr style=\"text-align: right;\">\n",
       "      <th></th>\n",
       "      <th>genre</th>\n",
       "      <th>number of ratings</th>\n",
       "      <th>numbers</th>\n",
       "    </tr>\n",
       "  </thead>\n",
       "  <tbody>\n",
       "    <tr>\n",
       "      <th>0</th>\n",
       "      <td>Action</td>\n",
       "      <td>7446918</td>\n",
       "      <td>7348</td>\n",
       "    </tr>\n",
       "    <tr>\n",
       "      <th>1</th>\n",
       "      <td>Adventure</td>\n",
       "      <td>5832424</td>\n",
       "      <td>4145</td>\n",
       "    </tr>\n",
       "    <tr>\n",
       "      <th>2</th>\n",
       "      <td>Animation</td>\n",
       "      <td>1630987</td>\n",
       "      <td>2929</td>\n",
       "    </tr>\n",
       "    <tr>\n",
       "      <th>3</th>\n",
       "      <td>Children</td>\n",
       "      <td>2124258</td>\n",
       "      <td>2935</td>\n",
       "    </tr>\n",
       "    <tr>\n",
       "      <th>4</th>\n",
       "      <td>Comedy</td>\n",
       "      <td>8926230</td>\n",
       "      <td>16870</td>\n",
       "    </tr>\n",
       "    <tr>\n",
       "      <th>5</th>\n",
       "      <td>Crime</td>\n",
       "      <td>4190259</td>\n",
       "      <td>5319</td>\n",
       "    </tr>\n",
       "    <tr>\n",
       "      <th>6</th>\n",
       "      <td>Documentary</td>\n",
       "      <td>322449</td>\n",
       "      <td>5605</td>\n",
       "    </tr>\n",
       "    <tr>\n",
       "      <th>7</th>\n",
       "      <td>Drama</td>\n",
       "      <td>10962833</td>\n",
       "      <td>25606</td>\n",
       "    </tr>\n",
       "    <tr>\n",
       "      <th>8</th>\n",
       "      <td>Fantasy</td>\n",
       "      <td>2831585</td>\n",
       "      <td>2731</td>\n",
       "    </tr>\n",
       "    <tr>\n",
       "      <th>9</th>\n",
       "      <td>Film-Noir</td>\n",
       "      <td>247227</td>\n",
       "      <td>353</td>\n",
       "    </tr>\n",
       "    <tr>\n",
       "      <th>10</th>\n",
       "      <td>Horror</td>\n",
       "      <td>1892183</td>\n",
       "      <td>5989</td>\n",
       "    </tr>\n",
       "    <tr>\n",
       "      <th>11</th>\n",
       "      <td>Musical</td>\n",
       "      <td>964252</td>\n",
       "      <td>1054</td>\n",
       "    </tr>\n",
       "    <tr>\n",
       "      <th>12</th>\n",
       "      <td>Mystery</td>\n",
       "      <td>2010995</td>\n",
       "      <td>2925</td>\n",
       "    </tr>\n",
       "    <tr>\n",
       "      <th>13</th>\n",
       "      <td>Romance</td>\n",
       "      <td>4497291</td>\n",
       "      <td>7719</td>\n",
       "    </tr>\n",
       "    <tr>\n",
       "      <th>14</th>\n",
       "      <td>Sci-Fi</td>\n",
       "      <td>4325740</td>\n",
       "      <td>3595</td>\n",
       "    </tr>\n",
       "    <tr>\n",
       "      <th>15</th>\n",
       "      <td>Thriller</td>\n",
       "      <td>6763272</td>\n",
       "      <td>8654</td>\n",
       "    </tr>\n",
       "    <tr>\n",
       "      <th>16</th>\n",
       "      <td>War</td>\n",
       "      <td>1267346</td>\n",
       "      <td>1874</td>\n",
       "    </tr>\n",
       "    <tr>\n",
       "      <th>17</th>\n",
       "      <td>Western</td>\n",
       "      <td>483731</td>\n",
       "      <td>1399</td>\n",
       "    </tr>\n",
       "    <tr>\n",
       "      <th>18</th>\n",
       "      <td>IMAX</td>\n",
       "      <td>1063279</td>\n",
       "      <td>195</td>\n",
       "    </tr>\n",
       "    <tr>\n",
       "      <th>19</th>\n",
       "      <td>no_genres</td>\n",
       "      <td>26627</td>\n",
       "      <td>5062</td>\n",
       "    </tr>\n",
       "  </tbody>\n",
       "</table>\n",
       "</div>"
      ],
      "text/plain": [
       "          genre  number of ratings  numbers\n",
       "0        Action            7446918     7348\n",
       "1     Adventure            5832424     4145\n",
       "2     Animation            1630987     2929\n",
       "3      Children            2124258     2935\n",
       "4        Comedy            8926230    16870\n",
       "5         Crime            4190259     5319\n",
       "6   Documentary             322449     5605\n",
       "7         Drama           10962833    25606\n",
       "8       Fantasy            2831585     2731\n",
       "9     Film-Noir             247227      353\n",
       "10       Horror            1892183     5989\n",
       "11      Musical             964252     1054\n",
       "12      Mystery            2010995     2925\n",
       "13      Romance            4497291     7719\n",
       "14       Sci-Fi            4325740     3595\n",
       "15     Thriller            6763272     8654\n",
       "16          War            1267346     1874\n",
       "17      Western             483731     1399\n",
       "18         IMAX            1063279      195\n",
       "19    no_genres              26627     5062"
      ]
     },
     "execution_count": 32,
     "metadata": {},
     "output_type": "execute_result"
    }
   ],
   "source": [
    "popular={}\n",
    "i=0\n",
    "for g in genres_classify:\n",
    " popular[g]=len(data[i])\n",
    " i+=1\n",
    "popular_sort= sorted(popular.items(), key=operator.itemgetter(1))\n",
    "popular_sort\n",
    "popular_pd=pd.DataFrame(popular.items(),columns=['genre', 'number of ratings'])\n",
    "popular_pd.head()\n",
    "summary_genre=popular_pd.merge(common_pd,on='genre',how='inner')\n",
    "summary_genre"
   ]
  },
  {
   "cell_type": "code",
   "execution_count": 33,
   "id": "8c51bb7f",
   "metadata": {},
   "outputs": [
    {
     "data": {
      "image/png": "[encoded data removed]",
      "text/plain": [
       "<Figure size 1440x864 with 2 Axes>"
      ]
     },
     "metadata": {
      "needs_background": "light"
     },
     "output_type": "display_data"
    }
   ],
   "source": [
    "sort_1=summary_genre.sort_values(by='numbers')\n",
    "sort_2=summary_genre.sort_values(by='number of ratings')\n",
    " \n",
    "fig, (ax1,ax2) = plt.subplots(2,1,figsize=(20,12))\n",
    " \n",
    "a1=sort_1.plot.bar(x='genre',y='numbers',ax=ax1,color='darkkhaki')\n",
    "a1.set_title('Number of Movies vs Genres',fontsize=16)\n",
    "plt.grid(True)\n",
    " \n",
    "a2=sort_2.plot.bar(x='genre',y='number of ratings',ax=ax2,color='royalblue')\n",
    "a2.set_title('number of ratings vs genres',fontsize=16)\n",
    "plt.grid(True)\n",
    "plt.tight_layout()\n",
    " \n",
    "fig.savefig('Number of Movies and Number of Ratings by genres.jpg')"
   ]
  },
  {
   "cell_type": "markdown",
   "id": "0e30af6c",
   "metadata": {},
   "source": [
    "<b>Finally, we explore the users ratings for all movies and sketch the heatmap for popular movies and active users."
   ]
  },
  {
   "cell_type": "code",
   "execution_count": 37,
   "id": "a550a0a4",
   "metadata": {},
   "outputs": [
    {
     "data": {
      "image/png": "[encoded data removed]",
      "text/plain": [
       "<Figure size 2000x800 with 2 Axes>"
      ]
     },
     "metadata": {},
     "output_type": "display_data"
    }
   ],
   "source": [
    "summary_2=rates_pd['rating'].groupby(rates_pd['userId'])\n",
    "user_counts=summary_2.count().to_dict()\n",
    "user_counts=pd.DataFrame(user_counts.items(), columns=['userId', 'count'])\n",
    "active_users=user_counts[user_counts['count']>5000]\n",
    "INDEX1=active_users.index\n",
    "popular_movies=user_counts[user_counts['count']>25000]\n",
    "INDEX2=popular_movies.index\n",
    "INDEX=list(set(INDEX1).union(set(INDEX2)))\n",
    "rates_pd_sub=rates_pd.iloc[INDEX,]\n",
    "table = pd.pivot_table(rates_pd_sub, values='rating', index=['movieId'],\n",
    "columns=['userId'], aggfunc=np.sum)\n",
    "table_pd=pd.DataFrame(table.fillna(0))\n",
    "table_pd.transpose()\n",
    "\n",
    "plt.figure(num=None, figsize=(25,10), dpi=80, facecolor='w', edgecolor='k')\n",
    "heatmap=sns.heatmap(table_pd.transpose())"
   ]
  },
  {
   "cell_type": "code",
   "execution_count": null,
   "id": "e80fb7f0",
   "metadata": {},
   "outputs": [],
   "source": []
  }
 ],
 "metadata": {
  "kernelspec": {
   "display_name": "Python 3 (ipykernel)",
   "language": "python",
   "name": "python3"
  },
  "language_info": {
   "codemirror_mode": {
    "name": "ipython",
    "version": 3
   },
   "file_extension": ".py",
   "mimetype": "text/x-python",
   "name": "python",
   "nbconvert_exporter": "python",
   "pygments_lexer": "ipython3",
   "version": "3.9.7"
  }
 },
 "nbformat": 4,
 "nbformat_minor": 5
}
