{
 "cells": [
  {
   "cell_type": "code",
   "execution_count": 1,
   "id": "8c5a034d",
   "metadata": {},
   "outputs": [
    {
     "name": "stdout",
     "output_type": "stream",
     "text": [
      "Spark Version: 3.0.3\n",
      "PySpark Version: 3.0.3\n"
     ]
    }
   ],
   "source": [
    "import os\n",
    "import pyspark\n",
    "from pyspark.sql import SQLContext, SparkSession\n",
    "\n",
    "# change \"pierre.cs.colsotate.edu\" to the name of your spark master node\n",
    "SPARK_NODE=\"pierre.cs.colostate.edu\"\n",
    "\n",
    "\n",
    "# 31820 corresponds to SPARK_MASTER_PORT in $SPARK_HOME/conf/spark-env.sh\n",
    "SPARK_PORT=31820\n",
    "\n",
    "spark = SparkSession.builder.master('spark://{}:{}'.format(SPARK_NODE,SPARK_PORT)).appName('test').getOrCreate()\n",
    "\n",
    "sqlContext = SQLContext(sparkContext=spark.sparkContext, sparkSession=spark)\n",
    "print(\"Spark Version: \" + spark.version)\n",
    "print(\"PySpark Version: \" + pyspark.__version__)"
   ]
  },
  {
   "cell_type": "code",
   "execution_count": 2,
   "id": "8b66cdcb",
   "metadata": {},
   "outputs": [],
   "source": [
    "# load data\n",
    "normalized_ratings = spark.read.json(\"/FP/output/normalized_ratings.json\")\n"
   ]
  },
  {
   "cell_type": "code",
   "execution_count": 52,
   "id": "146303f9",
   "metadata": {},
   "outputs": [
    {
     "name": "stdout",
     "output_type": "stream",
     "text": [
      "Number of partitions for the ratings DataFrame: 100\n"
     ]
    }
   ],
   "source": [
    "print('Number of partitions for the ratings DataFrame: {}'.format(normalized_ratings.rdd.getNumPartitions()))"
   ]
  },
  {
   "cell_type": "code",
   "execution_count": 3,
   "id": "3cac8a4b",
   "metadata": {},
   "outputs": [],
   "source": [
    "#load data\n",
    "\n",
    "#split data\n",
    "\n",
    "training, validation, test = normalized_ratings.randomSplit([6.0, 2.0, 2.0], 24)"
   ]
  },
  {
   "cell_type": "code",
   "execution_count": 57,
   "id": "092eec2f",
   "metadata": {},
   "outputs": [],
   "source": [
    "from pyspark.ml.recommendation import ALS\n",
    "\n",
    "#model = ALS.trainImplicit(validation,5,seed=0)\n",
    "model = ALS(userCol='user_id', itemCol='item_id', ratingCol='rating').fit(training)\n"
   ]
  },
  {
   "cell_type": "code",
   "execution_count": 62,
   "id": "674fa61f",
   "metadata": {},
   "outputs": [
    {
     "name": "stdout",
     "output_type": "stream",
     "text": [
      "+-------+--------------------+-------+-------------+\n",
      "|item_id|              rating|user_id|   prediction|\n",
      "+-------+--------------------+-------+-------------+\n",
      "|    148| -0.3621621621621621| 282329| -0.038076196|\n",
      "|    148|-0.16844898287368337| 168279| -0.018411031|\n",
      "|    148|-0.14113308749580955| 602455|  -0.01775694|\n",
      "|    148|  0.2718600953895072| 333305| -0.017734025|\n",
      "|    148| -0.1428571428571428| 865238|-0.0054512485|\n",
      "|    148|0.019867549668874274| 872835| -0.021995276|\n",
      "|    148| 0.05319148936170204| 279216| -0.045541644|\n",
      "|    148| 0.24878048780487805| 102933| -0.034185715|\n",
      "|    148|-0.48370273794002605| 900574| -0.038468044|\n",
      "|    148|-0.07707910750507097| 917175| -0.070053376|\n",
      "|    148|-0.00928792569659...| 844689| -0.012771412|\n",
      "|    148|-0.04083204930662554|  64181| -0.030010216|\n",
      "|    148| -0.2143701252658946| 258674| -0.015988404|\n",
      "|    148|-0.18652561247216037| 390047| -0.026524104|\n",
      "|    148|-0.07692307692307698| 748306| -0.007702155|\n",
      "|    148|-0.18540669856459324| 159827| -0.013303844|\n",
      "|    148|-0.13725490196078427| 303091|-0.0065783095|\n",
      "|    148| -0.6575342465753424| 962031|  -0.02898685|\n",
      "|    148|  0.1207865168539326| 422516|  -0.03473173|\n",
      "|    148|-0.05121107266435976| 683085| -0.028508762|\n",
      "+-------+--------------------+-------+-------------+\n",
      "only showing top 20 rows\n",
      "\n"
     ]
    }
   ],
   "source": [
    "predictions = model.transform(test)\n",
    "predictions.show()"
   ]
  },
  {
   "cell_type": "code",
   "execution_count": 61,
   "id": "33d42b6c",
   "metadata": {},
   "outputs": [
    {
     "name": "stdout",
     "output_type": "stream",
     "text": [
      "The root mean squared error for our model is: nan\n"
     ]
    }
   ],
   "source": [
    "from pyspark.ml.evaluation import RegressionEvaluator\n",
    "\n",
    "evaluator = RegressionEvaluator(metricName='rmse', labelCol='rating', predictionCol='prediction')\n",
    "print('The root mean squared error for our model is: {}'.format(evaluator.evaluate(predictions)))"
   ]
  },
  {
   "cell_type": "code",
   "execution_count": 14,
   "id": "8676c25a",
   "metadata": {},
   "outputs": [],
   "source": [
    "predTest = model.predictAll(test[\"user_id\",\"item_id\"].rdd).toDF([\"user_id\",\"item_id\",\"rating\"])"
   ]
  },
  {
   "cell_type": "code",
   "execution_count": 32,
   "id": "f1d1c393",
   "metadata": {},
   "outputs": [
    {
     "name": "stdout",
     "output_type": "stream",
     "text": [
      "+-------+-------+--------------------+--------------------+\n",
      "|user_id|item_id|              rating|         pred_rating|\n",
      "+-------+-------+--------------------+--------------------+\n",
      "|   1410|      1| 0.20388349514563098|  0.7860451756848548|\n",
      "|  65518|      3|  0.2222222222222221| 0.03272848759226887|\n",
      "| 105288|      1|-0.12082957619477008| 0.07986960389975017|\n",
      "| 139207|      1| 0.22565006610841776| 0.23324659302959194|\n",
      "| 147252|      1|-0.02304147465437789|  0.2550308501927132|\n",
      "|  54736|      5|-0.41313868613138693|-0.00419573906341...|\n",
      "|  79640|      1| 0.27450980392156854|  0.1827480756827744|\n",
      "|  99517|      1| 0.10828025477707004| 0.07987368238186043|\n",
      "|   7453|      3| 0.19909502262443435|  0.5181362009771763|\n",
      "|  26495|      2|-0.08063175394846211|   0.544579038563672|\n",
      "| 149120|      2|-0.01285347043701801| 0.09677562316412569|\n",
      "| 181473|      1| -0.7095890410958904|  0.1530106947772265|\n",
      "|   5719|      5| -0.4350282485875706|-0.01943513792413...|\n",
      "| 111113|      5|-0.39924433249370284|-0.00386713115875...|\n",
      "| 114563|      1|                 0.0|  0.2092991952965617|\n",
      "| 149646|      1|  0.2541375505700625| 0.07986974870730879|\n",
      "| 210273|      5|-0.24772400574988018|0.028986812259539585|\n",
      "|   1119|      1| 0.22678185745140378|  0.5599629859386663|\n",
      "|  26453|      5|-0.24256505576208176|-0.04071557234286605|\n",
      "|  44115|      1| 0.03308465780084324| 0.43339832190479655|\n",
      "+-------+-------+--------------------+--------------------+\n",
      "only showing top 20 rows\n",
      "\n"
     ]
    }
   ],
   "source": [
    "testCompare = test.join(predTest.withColumnRenamed(\"rating\",\"pred_rating\")\\\n",
    "                        ,[test.user_id==predTest.user_id, test.item_id==predTest.item_id]\\\n",
    "                           ).select(test.user_id,test.item_id,\"rating\",\"pred_rating\")\n",
    "testCompare.show()"
   ]
  },
  {
   "cell_type": "code",
   "execution_count": 64,
   "id": "8ff737dd",
   "metadata": {},
   "outputs": [
    {
     "name": "stdout",
     "output_type": "stream",
     "text": [
      "The average rating in the dataset is: -1.4090871080574545e-19\n",
      "RMSE when replacing na: 0.2767606916548808\n",
      "RMSE when dropping na: 0.27671374834702206\n"
     ]
    }
   ],
   "source": [
    "# replace na predictions with average rating\n",
    "\n",
    "avgRatings = normalized_ratings.select('rating').groupBy().avg().first()[0]\n",
    "print ('The average rating in the dataset is: {}'.format(avgRatings))\n",
    "# avg rating is close to zero because we normalized ratings\n",
    "\n",
    "evaluator = RegressionEvaluator(metricName='rmse', labelCol='rating', predictionCol='prediction')\n",
    "print ('RMSE when replacing na: {}'.format(evaluator.evaluate(predictions.na.fill(avgRatings))))\n",
    "\n",
    "# drop na predictions \n",
    "evaluator = RegressionEvaluator(metricName='rmse', labelCol='rating', predictionCol='prediction')\n",
    "print ('RMSE when dropping na: {}'.format(evaluator.evaluate(predictions.na.drop())))"
   ]
  },
  {
   "cell_type": "code",
   "execution_count": 75,
   "id": "d3fbd668",
   "metadata": {},
   "outputs": [
    {
     "name": "stdout",
     "output_type": "stream",
     "text": [
      "+---------+---------+--------------------+-------+-------+--------------------+--------------------+\n",
      "|avgRating|dateAdded|          directedBy| imdbId|item_id|            starring|               title|\n",
      "+---------+---------+--------------------+-------+-------+--------------------+--------------------+\n",
      "|  3.89146|     null|       John Lasseter|0114709|      1|Tim Allen, Tom Ha...|    Toy Story (1995)|\n",
      "|  3.26605|     null|        Joe Johnston|0113497|      2|Jonathan Hyde, Br...|      Jumanji (1995)|\n",
      "|  3.17146|     null|       Howard Deutch|0113228|      3|Jack Lemmon, Walt...|Grumpier Old Men ...|\n",
      "|  2.86824|     null|     Forest Whitaker|0114885|      4|Angela Bassett, L...|Waiting to Exhale...|\n",
      "|   3.0762|     null|       Charles Shyer|0113041|      5|Steve Martin, Mar...|Father of the Bri...|\n",
      "|  3.85549|     null|        Michael Mann|0113277|      6|Robert De Niro, A...|         Heat (1995)|\n",
      "|  3.37244|     null|      Sydney Pollack|0114319|      7|Harrison Ford, Gr...|      Sabrina (1995)|\n",
      "|  3.11678|     null|        Peter Hewitt|0112302|      8|Jonathan Taylor T...| Tom and Huck (1995)|\n",
      "|  3.00242|     null|         Peter Hyams|0114576|      9|Raymond J. Barry,...| Sudden Death (1995)|\n",
      "|   3.4334|     null|     Martin Campbell|0113189|     10|Pierce Brosnan, S...|    GoldenEye (1995)|\n",
      "|  3.66058|     null|          Rob Reiner|0112346|     11|Michael Douglas, ...|American Presiden...|\n",
      "|  2.67668|     null|          Mel Brooks|0112896|     12|Peter MacNicol, L...|Dracula: Dead and...|\n",
      "|  3.34382|     null|         Simon Wells|0112453|     13|Kevin Bacon, Jim ...|        Balto (1995)|\n",
      "|  3.42846|     null|        Oliver Stone|0113987|     14|Anthony Hopkins, ...|        Nixon (1995)|\n",
      "|  2.73427|     null|        Renny Harlin|0112760|     15|Maury Chaykin, Fr...|Cutthroat Island ...|\n",
      "|  3.82016|     null|     Martin Scorsese|0112641|     16|Robert De Niro, J...|       Casino (1995)|\n",
      "|  3.94589|     null|             Ang Lee|0114388|     17|Hugh Grant, Alan ...|Sense and Sensibi...|\n",
      "|  3.41608|     null|Allison Anders, A...|0113101|     18|Sammi Davis, Aman...|   Four Rooms (1995)|\n",
      "|  2.65943|     null|      Steve Oedekerk|0112281|     19|Simon Callow, Jim...|Ace Ventura: When...|\n",
      "|  2.89166|     null|        Joseph Ruben|0113845|     20|Wesley Snipes, Wo...|  Money Train (1995)|\n",
      "+---------+---------+--------------------+-------+-------+--------------------+--------------------+\n",
      "only showing top 20 rows\n",
      "\n"
     ]
    }
   ],
   "source": [
    "movies=spark.read.json(\"/FP/metadata.json\")\n",
    "movies.show()"
   ]
  },
  {
   "cell_type": "code",
   "execution_count": 92,
   "id": "c8959901",
   "metadata": {},
   "outputs": [],
   "source": [
    "from pyspark.sql.functions import lit\n",
    "\n",
    "movies=spark.read.json(\"/FP/metadata.json\")\n",
    "def recommendMovies(model, user, nbRecommendations):\n",
    "    ratings=normalized_ratings\n",
    "    # Create a Spark DataFrame with the specified user and all the movies listed in the ratings DataFrame\n",
    "    dataSet = ratings.select('item_id').distinct().withColumn('user_id', lit(user))\n",
    "    #dataSet.show()\n",
    "    \n",
    "    # Create a Spark DataFrame with the movies that have already been rated by this user\n",
    "    moviesAlreadyRated = ratings.filter(ratings.user_id == user).select('item_id', 'user_id')\n",
    "    #moviesAlreadyRated.show()\n",
    "    \n",
    "    # Apply the recommender system to the data set without the already rated movies to predict ratings\n",
    "    predictions = model.transform(dataSet.subtract(moviesAlreadyRated)).dropna().orderBy('prediction', ascending=False).limit(nbRecommendations).select('item_id', 'prediction')\n",
    "    #predictions.show()\n",
    "    \n",
    "    # Join with the movies DataFrame to get the movies titles and genres\n",
    "    recommendations = predictions.join(movies, predictions.item_id == movies.item_id).select(predictions.item_id, movies.title, movies.starring, predictions.prediction)\n",
    "\n",
    "#     recommendations.show(truncate=False)\n",
    "    return recommendations\n",
    "\n"
   ]
  },
  {
   "cell_type": "code",
   "execution_count": 93,
   "id": "8b749d97",
   "metadata": {},
   "outputs": [
    {
     "name": "stdout",
     "output_type": "stream",
     "text": [
      "+-------+--------------------+--------------------+-----------+\n",
      "|item_id|               title|            starring| prediction|\n",
      "+-------+--------------------+--------------------+-----------+\n",
      "| 106607|     Plankton (1994)|Clay Rogers, Mich...|0.088005714|\n",
      "| 173945|The Wearing of th...|John T. Smith,Mel...|0.090307124|\n",
      "| 182287|Porky in Egypt (1...|           Mel Blanc| 0.08560727|\n",
      "| 185669|CM Punk: Best in ...|Phillip Jack Broo...| 0.10411912|\n",
      "| 188111|Norman Lear: Just...|Norman Lear,John ...|0.085670136|\n",
      "| 194434|   Adrenaline (1990)|Clémentine Célari...|0.088005714|\n",
      "| 199524|Arise! SubGenius ...|Mark Mothersbaugh...|0.088005714|\n",
      "| 202231|       Foster (2018)|                    | 0.10151178|\n",
      "| 215251|   The Scheme (2020)|                    | 0.10421473|\n",
      "+-------+--------------------+--------------------+-----------+\n",
      "\n"
     ]
    }
   ],
   "source": [
    "recommended = recommendMovies(model,1410,10)\n",
    "recommended.show()"
   ]
  },
  {
   "cell_type": "code",
   "execution_count": 94,
   "id": "b53d62c3",
   "metadata": {},
   "outputs": [
    {
     "name": "stdout",
     "output_type": "stream",
     "text": [
      "+-------+--------------------+--------------------+-----------+\n",
      "|item_id|               title|            starring| prediction|\n",
      "+-------+--------------------+--------------------+-----------+\n",
      "| 106607|     Plankton (1994)|Clay Rogers, Mich...|0.010086744|\n",
      "| 173945|The Wearing of th...|John T. Smith,Mel...|0.010346627|\n",
      "| 182287|Porky in Egypt (1...|           Mel Blanc|0.009807436|\n",
      "| 185669|CM Punk: Best in ...|Phillip Jack Broo...|0.011931514|\n",
      "| 188111|Norman Lear: Just...|Norman Lear,John ...|0.009815398|\n",
      "| 194434|   Adrenaline (1990)|Clémentine Célari...|0.010086744|\n",
      "| 199524|Arise! SubGenius ...|Mark Mothersbaugh...|0.010086744|\n",
      "| 202231|       Foster (2018)|                    | 0.01163055|\n",
      "| 215251|   The Scheme (2020)|                    |0.011947064|\n",
      "+-------+--------------------+--------------------+-----------+\n",
      "\n"
     ]
    }
   ],
   "source": [
    "recommended = recommendMovies(model,7453,10)\n",
    "recommended.show()"
   ]
  },
  {
   "cell_type": "markdown",
   "id": "748dd0e0",
   "metadata": {},
   "source": [
    "### Confusion Matrix\n",
    "\n",
    "negative = $[-100,-0.1)$\n",
    "\n",
    "neutral = $[-0.1,0.1)$\n",
    "\n",
    "positive = $[0.1,100)$\n",
    "\n",
    "Vertical is true rating\n",
    "\n",
    "Horizontal in predicted rating"
   ]
  },
  {
   "cell_type": "code",
   "execution_count": 131,
   "id": "5acf19d8",
   "metadata": {},
   "outputs": [
    {
     "name": "stdout",
     "output_type": "stream",
     "text": [
      "actual in [-100,-0.1), predicted in [-100,-0.1): 1792097\n",
      "actual in [-100,-0.1), predicted in [-0.1,0.1): 1227\n",
      "actual in [-100,-0.1), predicted in [0.1,100): 2179\n",
      "actual in [-0.1,0.1), predicted in [-100,-0.1): 1227\n",
      "actual in [-0.1,0.1), predicted in [-0.1,0.1): 1771987\n",
      "actual in [-0.1,0.1), predicted in [0.1,100): 2168\n",
      "actual in [0.1,100), predicted in [-100,-0.1): 2179\n",
      "actual in [0.1,100), predicted in [-0.1,0.1): 2168\n",
      "actual in [0.1,100), predicted in [0.1,100): 2138395\n"
     ]
    }
   ],
   "source": [
    "# confusion matrix\n",
    "\n",
    "predictions = model.transform(test)\n",
    "joined = test.join(predictions.withColumnRenamed(\"rating\",\"pred_ratings\"),[predictions.item_id==test.item_id,predictions.user_id==test.user_id])\n",
    "total = joined.count()\n",
    "\n",
    "classes=[-100,-.1,.1,100]\n",
    "labels=[\"negative\",\"nuetral\",\"positive\"]\n",
    "agg = [[labels[j]]+[None for i in range(len(classes)-1)] for j in range(len(classes)-1)]\n",
    "for i in range(len(classes)-1):\n",
    "    for j in range(len(classes)-1):\n",
    "        matching=joined.rdd.filter(lambda x: classes[i]<=x.rating<classes[i+1] and classes[j]<=x.pred_ratings<classes[j+1]).count()\n",
    "        print(\"actual in [{},{}), predicted in [{},{}): {}\".format(classes[i],classes[i+1],classes[j],classes[j+1],matching))\n",
    "        agg[i][j+1]=matching/total"
   ]
  },
  {
   "cell_type": "code",
   "execution_count": 134,
   "id": "75473d3d",
   "metadata": {},
   "outputs": [
    {
     "data": {
      "text/html": [
       "<div>\n",
       "<style scoped>\n",
       "    .dataframe tbody tr th:only-of-type {\n",
       "        vertical-align: middle;\n",
       "    }\n",
       "\n",
       "    .dataframe tbody tr th {\n",
       "        vertical-align: top;\n",
       "    }\n",
       "\n",
       "    .dataframe thead th {\n",
       "        text-align: right;\n",
       "    }\n",
       "</style>\n",
       "<table border=\"1\" class=\"dataframe\">\n",
       "  <thead>\n",
       "    <tr style=\"text-align: right;\">\n",
       "      <th></th>\n",
       "      <th>rating</th>\n",
       "      <th>negative</th>\n",
       "      <th>nuetral</th>\n",
       "      <th>positive</th>\n",
       "    </tr>\n",
       "  </thead>\n",
       "  <tbody>\n",
       "    <tr>\n",
       "      <th>0</th>\n",
       "      <td>negative</td>\n",
       "      <td>0.313653</td>\n",
       "      <td>0.000215</td>\n",
       "      <td>0.000381</td>\n",
       "    </tr>\n",
       "    <tr>\n",
       "      <th>1</th>\n",
       "      <td>nuetral</td>\n",
       "      <td>0.000215</td>\n",
       "      <td>0.310133</td>\n",
       "      <td>0.000379</td>\n",
       "    </tr>\n",
       "    <tr>\n",
       "      <th>2</th>\n",
       "      <td>positive</td>\n",
       "      <td>0.000381</td>\n",
       "      <td>0.000379</td>\n",
       "      <td>0.374262</td>\n",
       "    </tr>\n",
       "  </tbody>\n",
       "</table>\n",
       "</div>"
      ],
      "text/plain": [
       "     rating  negative   nuetral  positive\n",
       "0  negative  0.313653  0.000215  0.000381\n",
       "1   nuetral  0.000215  0.310133  0.000379\n",
       "2  positive  0.000381  0.000379  0.374262"
      ]
     },
     "metadata": {},
     "output_type": "display_data"
    }
   ],
   "source": [
    "import pandas\n",
    "\n",
    "df = pandas.DataFrame(agg)\n",
    "labels=[\"rating\",\"negative\",\"nuetral\",\"positive\"]\n",
    "df.columns=labels\n",
    "#df.set_index(\"rating\")\n",
    "display(df)"
   ]
  }
 ],
 "metadata": {
  "kernelspec": {
   "display_name": "Python 3",
   "language": "python",
   "name": "python3"
  },
  "language_info": {
   "codemirror_mode": {
    "name": "ipython",
    "version": 3
   },
   "file_extension": ".py",
   "mimetype": "text/x-python",
   "name": "python",
   "nbconvert_exporter": "python",
   "pygments_lexer": "ipython3",
   "version": "3.6.8"
  }
 },
 "nbformat": 4,
 "nbformat_minor": 5
}
