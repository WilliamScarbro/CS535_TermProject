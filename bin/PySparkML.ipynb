{
 "cells": [
  {
   "cell_type": "code",
   "execution_count": 1,
   "id": "6d62662f",
   "metadata": {},
   "outputs": [
    {
     "name": "stdout",
     "output_type": "stream",
     "text": [
      "Spark Version: 3.0.3\n",
      "PySpark Version: 3.0.3\n"
     ]
    }
   ],
   "source": [
    "import os\n",
    "import pyspark\n",
    "from pyspark.sql import SQLContext, SparkSession\n",
    "\n",
    "# change \"pierre.cs.colsotate.edu\" to the name of your spark master node\n",
    "SPARK_NODE=\"pierre.cs.colostate.edu\"\n",
    "\n",
    "\n",
    "# 31820 corresponds to SPARK_MASTER_PORT in $SPARK_HOME/conf/spark-env.sh\n",
    "SPARK_PORT=31820\n",
    "\n",
    "spark = SparkSession.builder.master('spark://{}:{}'.format(SPARK_NODE,SPARK_PORT)).appName('test').getOrCreate()\n",
    "\n",
    "sqlContext = SQLContext(sparkContext=spark.sparkContext, sparkSession=spark)\n",
    "print(\"Spark Version: \" + spark.version)\n",
    "print(\"PySpark Version: \" + pyspark.__version__)"
   ]
  },
  {
   "cell_type": "code",
   "execution_count": 7,
   "id": "4e154daa",
   "metadata": {},
   "outputs": [
    {
     "name": "stdout",
     "output_type": "stream",
     "text": [
      "+---+------------------+\n",
      "| id|          features|\n",
      "+---+------------------+\n",
      "|  1|[10.0,10000.0,1.0]|\n",
      "|  2|[20.0,30000.0,2.0]|\n",
      "|  3|[30.0,40000.0,3.0]|\n",
      "+---+------------------+\n",
      "\n"
     ]
    }
   ],
   "source": [
    "from pyspark.ml.feature import MinMaxScaler\n",
    "from pyspark.ml.linalg import Vectors\n",
    "from pyspark.ml.feature import  StandardScaler\n",
    "\n",
    "features_df = spark.createDataFrame([\n",
    "    (1, Vectors.dense([10.0,10000.0,1.0]),),\n",
    "    (2, Vectors.dense([20.0,30000.0,2.0]),),\n",
    "    (3, Vectors.dense([30.0,40000.0,3.0]),),],[\"id\", \"features\"] )\n",
    "\n",
    "features_df.show()\n",
    "\n"
   ]
  },
  {
   "cell_type": "code",
   "execution_count": null,
   "id": "a89a44e1",
   "metadata": {},
   "outputs": [],
   "source": [
    "# feature scaling\n",
    "features_scaler = MinMaxScaler(inputCol = \"features\", outputCol = \"sfeatures\")\n",
    "smodel = features_scaler.fit(features_df)\n",
    "sfeatures_df = smodel.transform(features_df)\n",
    "sfeatures_df.show()"
   ]
  },
  {
   "cell_type": "code",
   "execution_count": 8,
   "id": "0f883ec7",
   "metadata": {},
   "outputs": [
    {
     "name": "stdout",
     "output_type": "stream",
     "text": [
      "+---+------------------+--------------------+\n",
      "| id|          features|           sfeatures|\n",
      "+---+------------------+--------------------+\n",
      "|  1|[10.0,10000.0,1.0]|[-1.0,-1.09108945...|\n",
      "|  2|[20.0,30000.0,2.0]|[0.0,0.2182178902...|\n",
      "|  3|[30.0,40000.0,3.0]|[1.0,0.8728715609...|\n",
      "+---+------------------+--------------------+\n",
      "\n"
     ]
    }
   ],
   "source": [
    "# feature standardization\n",
    "features_stand_scaler = StandardScaler(inputCol = \"features\", outputCol = \"sfeatures\", withStd=True, withMean=True)\n",
    "stmodel = features_stand_scaler.fit(features_df)\n",
    "stand_sfeatures_df = stmodel.transform(features_df)\n",
    "stand_sfeatures_df.show()"
   ]
  }
 ],
 "metadata": {
  "kernelspec": {
   "display_name": "Python 3",
   "language": "python",
   "name": "python3"
  },
  "language_info": {
   "codemirror_mode": {
    "name": "ipython",
    "version": 3
   },
   "file_extension": ".py",
   "mimetype": "text/x-python",
   "name": "python",
   "nbconvert_exporter": "python",
   "pygments_lexer": "ipython3",
   "version": "3.6.8"
  }
 },
 "nbformat": 4,
 "nbformat_minor": 5
}
