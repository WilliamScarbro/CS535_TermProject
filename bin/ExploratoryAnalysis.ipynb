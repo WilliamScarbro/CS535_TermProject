{
 "cells": [
  {
   "cell_type": "markdown",
   "metadata": {},
   "source": [
    "### Setup Spark"
   ]
  },
  {
   "cell_type": "code",
   "execution_count": 37,
   "metadata": {},
   "outputs": [
    {
     "name": "stdout",
     "output_type": "stream",
     "text": [
      "Spark Version: 3.0.3\n",
      "PySpark Version: 3.0.3\n"
     ]
    }
   ],
   "source": [
    "import os\n",
    "import pyspark\n",
    "from pyspark.sql import SQLContext, SparkSession\n",
    "\n",
    "# change \"pierre.cs.colsotate.edu\" to the name of your spark master node\n",
    "SPARK_NODE=\"pierre.cs.colostate.edu\"\n",
    "\n",
    "\n",
    "# 31820 corresponds to SPARK_MASTER_PORT in $SPARK_HOME/conf/spark-env.sh\n",
    "SPARK_PORT=31820\n",
    "\n",
    "sc = SparkSession.builder.master('spark://{}:{}'.format(SPARK_NODE,SPARK_PORT)).appName('test').getOrCreate()\n",
    "\n",
    "sqlContext = SQLContext(sparkContext=sc.sparkContext, sparkSession=sc)\n",
    "print(\"Spark Version: \" + sc.version)\n",
    "print(\"PySpark Version: \" + pyspark.__version__)"
   ]
  },
  {
   "cell_type": "code",
   "execution_count": 4,
   "metadata": {},
   "outputs": [
    {
     "name": "stdout",
     "output_type": "stream",
     "text": [
      "+---------+---------+--------------------+-------+-------+--------------------+--------------------+\n",
      "|avgRating|dateAdded|          directedBy| imdbId|item_id|            starring|               title|\n",
      "+---------+---------+--------------------+-------+-------+--------------------+--------------------+\n",
      "|  3.89146|     null|       John Lasseter|0114709|      1|Tim Allen, Tom Ha...|    Toy Story (1995)|\n",
      "|  3.26605|     null|        Joe Johnston|0113497|      2|Jonathan Hyde, Br...|      Jumanji (1995)|\n",
      "|  3.17146|     null|       Howard Deutch|0113228|      3|Jack Lemmon, Walt...|Grumpier Old Men ...|\n",
      "|  2.86824|     null|     Forest Whitaker|0114885|      4|Angela Bassett, L...|Waiting to Exhale...|\n",
      "|   3.0762|     null|       Charles Shyer|0113041|      5|Steve Martin, Mar...|Father of the Bri...|\n",
      "|  3.85549|     null|        Michael Mann|0113277|      6|Robert De Niro, A...|         Heat (1995)|\n",
      "|  3.37244|     null|      Sydney Pollack|0114319|      7|Harrison Ford, Gr...|      Sabrina (1995)|\n",
      "|  3.11678|     null|        Peter Hewitt|0112302|      8|Jonathan Taylor T...| Tom and Huck (1995)|\n",
      "|  3.00242|     null|         Peter Hyams|0114576|      9|Raymond J. Barry,...| Sudden Death (1995)|\n",
      "|   3.4334|     null|     Martin Campbell|0113189|     10|Pierce Brosnan, S...|    GoldenEye (1995)|\n",
      "|  3.66058|     null|          Rob Reiner|0112346|     11|Michael Douglas, ...|American Presiden...|\n",
      "|  2.67668|     null|          Mel Brooks|0112896|     12|Peter MacNicol, L...|Dracula: Dead and...|\n",
      "|  3.34382|     null|         Simon Wells|0112453|     13|Kevin Bacon, Jim ...|        Balto (1995)|\n",
      "|  3.42846|     null|        Oliver Stone|0113987|     14|Anthony Hopkins, ...|        Nixon (1995)|\n",
      "|  2.73427|     null|        Renny Harlin|0112760|     15|Maury Chaykin, Fr...|Cutthroat Island ...|\n",
      "|  3.82016|     null|     Martin Scorsese|0112641|     16|Robert De Niro, J...|       Casino (1995)|\n",
      "|  3.94589|     null|             Ang Lee|0114388|     17|Hugh Grant, Alan ...|Sense and Sensibi...|\n",
      "|  3.41608|     null|Allison Anders, A...|0113101|     18|Sammi Davis, Aman...|   Four Rooms (1995)|\n",
      "|  2.65943|     null|      Steve Oedekerk|0112281|     19|Simon Callow, Jim...|Ace Ventura: When...|\n",
      "|  2.89166|     null|        Joseph Ruben|0113845|     20|Wesley Snipes, Wo...|  Money Train (1995)|\n",
      "+---------+---------+--------------------+-------+-------+--------------------+--------------------+\n",
      "only showing top 20 rows\n",
      "\n"
     ]
    }
   ],
   "source": [
    "# example load\n",
    "metadata=sc.read.json(\"/FP/metadata.json\")\n",
    "metadata.show()"
   ]
  },
  {
   "cell_type": "markdown",
   "metadata": {},
   "source": [
    "## Average ratings per user"
   ]
  },
  {
   "cell_type": "code",
   "execution_count": 6,
   "metadata": {},
   "outputs": [
    {
     "name": "stdout",
     "output_type": "stream",
     "text": [
      "+-------+------+-------+\n",
      "|item_id|rating|user_id|\n",
      "+-------+------+-------+\n",
      "|      5|   3.0| 997206|\n",
      "|     10|   4.0| 997206|\n",
      "|     13|   4.0| 997206|\n",
      "|     17|   5.0| 997206|\n",
      "|     21|   4.0| 997206|\n",
      "|     28|   5.0| 997206|\n",
      "|     31|   4.0| 997206|\n",
      "|     39|   3.0| 997206|\n",
      "|     40|   4.0| 997206|\n",
      "|     45|   2.0| 997206|\n",
      "|     46|   4.0| 997206|\n",
      "|     50|   5.0| 997206|\n",
      "|     62|   4.0| 997206|\n",
      "|     74|   5.0| 997206|\n",
      "|     85|   2.0| 997206|\n",
      "|    110|   5.0| 997206|\n",
      "|    112|   4.0| 997206|\n",
      "|    141|   4.0| 997206|\n",
      "|    150|   3.0| 997206|\n",
      "|    161|   3.0| 997206|\n",
      "+-------+------+-------+\n",
      "only showing top 20 rows\n",
      "\n"
     ]
    }
   ],
   "source": [
    "# load data\n",
    "\n",
    "ratings=sc.read.json(\"/FP/ratings.json\")\n",
    "ratings.show()\n"
   ]
  },
  {
   "cell_type": "code",
   "execution_count": 19,
   "metadata": {},
   "outputs": [],
   "source": [
    "# group by user id\n",
    "\n",
    "ratings_mod_user_id = ratings.groupby(\"user_id\").count()\n",
    "total_ratings=ratings.count()\n",
    "total_users=ratings_mod_user_id.count()\n",
    "\n",
    "avg_ratings_per_user = total_ratings / total_users"
   ]
  },
  {
   "cell_type": "code",
   "execution_count": 20,
   "metadata": {},
   "outputs": [
    {
     "name": "stdout",
     "output_type": "stream",
     "text": [
      "total_ratings 28490116\n",
      "total_users 247383\n",
      "avg_ratings_per_user 115.16602191743168\n"
     ]
    }
   ],
   "source": [
    "print(\"total_ratings\",total_ratings)\n",
    "print(\"total_users\",total_users)\n",
    "print(\"avg_ratings_per_user\",avg_ratings_per_user)"
   ]
  },
  {
   "cell_type": "markdown",
   "metadata": {},
   "source": [
    "### Remove users with fewer than 5 ratings"
   ]
  },
  {
   "cell_type": "code",
   "execution_count": 24,
   "metadata": {},
   "outputs": [],
   "source": [
    "ratings_mod_user_id = ratings.groupby(\"user_id\").count()\n",
    "more_than_four = ratings_mod_user_id.filter(\"count>4\")\n"
   ]
  },
  {
   "cell_type": "code",
   "execution_count": 38,
   "metadata": {},
   "outputs": [],
   "source": [
    "#more_than_four.select(show()"
   ]
  },
  {
   "cell_type": "code",
   "execution_count": 39,
   "metadata": {},
   "outputs": [],
   "source": [
    "filtered_ratings = more_than_four.join(ratings,more_than_four.user_id == ratings.user_id).select(ratings.user_id,\"item_id\",\"rating\")\n",
    "#filtered_ratings.show()"
   ]
  },
  {
   "cell_type": "code",
   "execution_count": 36,
   "metadata": {},
   "outputs": [
    {
     "name": "stdout",
     "output_type": "stream",
     "text": [
      "before 28490116\n",
      "after 28462184\n"
     ]
    }
   ],
   "source": [
    "print(\"before\",total_ratings)\n",
    "print(\"after\",filtered_ratings.count())"
   ]
  }
 ],
 "metadata": {
  "kernelspec": {
   "display_name": "Python 3",
   "language": "python",
   "name": "python3"
  },
  "language_info": {
   "codemirror_mode": {
    "name": "ipython",
    "version": 3
   },
   "file_extension": ".py",
   "mimetype": "text/x-python",
   "name": "python",
   "nbconvert_exporter": "python",
   "pygments_lexer": "ipython3",
   "version": "3.6.8"
  }
 },
 "nbformat": 4,
 "nbformat_minor": 4
}
