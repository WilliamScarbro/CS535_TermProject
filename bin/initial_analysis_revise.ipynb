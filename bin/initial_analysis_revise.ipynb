{
 "cells": [
  {
   "cell_type": "markdown",
   "id": "985fcb84-098c-4392-b0a2-ec5e685a8ee2",
   "metadata": {},
   "source": [
    "The Collaborative Filtering Recommender is entirely based on the past behavior and not on the context. More specifically, it is based on the similarity in preferences, tastes and choices of two users. It analyses how similar the tastes of one user is to another and makes recommendations on the basis of that."
   ]
  },
  {
   "cell_type": "code",
   "execution_count": 54,
   "id": "c79643db",
   "metadata": {},
   "outputs": [
    {
     "name": "stdout",
     "output_type": "stream",
     "text": [
      "Spark Version: 3.0.3\n",
      "PySpark Version: 3.0.3\n"
     ]
    }
   ],
   "source": [
    "import os\n",
    "import pyspark\n",
    "from pyspark.sql import SQLContext, SparkSession\n",
    "\n",
    "# change \"pierre.cs.colsotate.edu\" to the name of your spark master node\n",
    "SPARK_NODE=\"pierre.cs.colostate.edu\"\n",
    "\n",
    "\n",
    "# 31820 corresponds to SPARK_MASTER_PORT in $SPARK_HOME/conf/spark-env.sh\n",
    "SPARK_PORT=31820\n",
    "\n",
    "spark = SparkSession.builder.master('spark://{}:{}'.format(SPARK_NODE,SPARK_PORT)).appName('test').getOrCreate()\n",
    "\n",
    "sqlContext = SQLContext(sparkContext=spark.sparkContext, sparkSession=spark)\n",
    "print(\"Spark Version: \" + spark.version)\n",
    "print(\"PySpark Version: \" + pyspark.__version__)"
   ]
  },
  {
   "cell_type": "code",
   "execution_count": 129,
   "id": "82489ab0",
   "metadata": {},
   "outputs": [
    {
     "name": "stdout",
     "output_type": "stream",
     "text": [
      "+----+--------------------+\n",
      "|  id|                 tag|\n",
      "+----+--------------------+\n",
      "|  22|             aardman|\n",
      "| 112|      secret service|\n",
      "| 167|          hillarious|\n",
      "| 270|           christian|\n",
      "| 362|               mummy|\n",
      "| 562|         pretentious|\n",
      "| 648|                cool|\n",
      "| 663|                 mtv|\n",
      "| 758|       culture clash|\n",
      "| 915|       gay character|\n",
      "|1429|                rome|\n",
      "|1485|francis ford copolla|\n",
      "|1696|   private detective|\n",
      "|1732|          historical|\n",
      "|1739|           afterlife|\n",
      "|1853|             rabbits|\n",
      "|1992|                 war|\n",
      "|2023|                bond|\n",
      "|2117|               space|\n",
      "|2145|   mistaken identity|\n",
      "|2176|       relationships|\n",
      "|2428|       nudity (rear)|\n",
      "|2429|              biopic|\n",
      "|2496|             tragedy|\n",
      "|2543|               cute!|\n",
      "+----+--------------------+\n",
      "only showing top 25 rows\n",
      "\n"
     ]
    }
   ],
   "source": [
    "#/FP/reviews.json\n",
    "\n",
    "reviews = spark.read.json(\"/FP/tags.json\")\n",
    "reviews.show(n=25)"
   ]
  },
  {
   "cell_type": "code",
   "execution_count": 139,
   "id": "8aea9be2",
   "metadata": {},
   "outputs": [],
   "source": [
    "newColumns = [\"tag_id\",\"tag\"]\n",
    "modified = reviews.toDF(*newColumns)"
   ]
  },
  {
   "cell_type": "code",
   "execution_count": 128,
   "id": "1087d3e0",
   "metadata": {},
   "outputs": [
    {
     "name": "stdout",
     "output_type": "stream",
     "text": [
      "+-------+---+------+\n",
      "|item_id|num|tag_id|\n",
      "+-------+---+------+\n",
      "|      1|  4| 86963|\n",
      "|      1|  1| 42940|\n",
      "|      1| 26| 37116|\n",
      "|      1|  1| 52206|\n",
      "|      1| 21| 34442|\n",
      "|      1| 91| 20919|\n",
      "|      1|  1| 89954|\n",
      "|      1| 14| 67843|\n",
      "|      1|  1|104090|\n",
      "|      1| 10| 55743|\n",
      "|      1| 11| 87523|\n",
      "|      1| 37|  6384|\n",
      "|      1|  1| 51465|\n",
      "|      1| 17| 59650|\n",
      "|      1| 22| 77762|\n",
      "|      1| 32| 37108|\n",
      "|      1| 41| 24203|\n",
      "|      1|  1| 95962|\n",
      "|      1|  1| 29910|\n",
      "|      1|  1|102837|\n",
      "+-------+---+------+\n",
      "only showing top 20 rows\n",
      "\n"
     ]
    }
   ],
   "source": [
    "tag_count = spark.read.json(\"/FP/tag_count.json\")\n",
    "tag_count.show()"
   ]
  },
  {
   "cell_type": "code",
   "execution_count": 200,
   "id": "18b7f816",
   "metadata": {},
   "outputs": [],
   "source": [
    "combinedDF = tag_count.join(modified, ['tag_id'])"
   ]
  },
  {
   "cell_type": "code",
   "execution_count": 205,
   "id": "029c7e7f",
   "metadata": {},
   "outputs": [
    {
     "name": "stdout",
     "output_type": "stream",
     "text": [
      "+------+-------+----+------+\n",
      "|tag_id|item_id| num|   tag|\n",
      "+------+-------+----+------+\n",
      "| 16788|    260|1117|sci-fi|\n",
      "+------+-------+----+------+\n",
      "\n"
     ]
    }
   ],
   "source": [
    "combinedDF.filter(combinedDF.num==combinedDF.agg({\"num\": \"max\"}).collect()[0][0]).show()"
   ]
  },
  {
   "cell_type": "code",
   "execution_count": 218,
   "id": "78434473",
   "metadata": {},
   "outputs": [],
   "source": [
    "all_data = combinedDF.join(surveys, ['tag_id'])\n"
   ]
  },
  {
   "cell_type": "code",
   "execution_count": 224,
   "id": "856928cd",
   "metadata": {},
   "outputs": [
    {
     "name": "stdout",
     "output_type": "stream",
     "text": [
      "+------+-------+---+---+-------+-----+-------+\n",
      "|tag_id|item_id|num|tag|item_id|score|user_id|\n",
      "+------+-------+---+---+-------+-----+-------+\n",
      "| 86963|      1|  4| 3d|   8961|    1| 921860|\n",
      "| 86963|      1|  4| 3d|   4886|    1| 921860|\n",
      "| 86963|      1|  4| 3d|  53435|    1| 921860|\n",
      "| 86963|      1|  4| 3d|  68954|    5| 921860|\n",
      "| 86963|      1|  4| 3d|      1|    1| 921860|\n",
      "| 86963|      1|  4| 3d|   3793|    1| 921860|\n",
      "| 86963|      1|  4| 3d|   8961|    3| 279494|\n",
      "| 86963|      1|  4| 3d|  68954|    5| 279494|\n",
      "| 86963|      1|  4| 3d|   2355|    4| 279494|\n",
      "| 86963|      1|  4| 3d|  58803|   -1| 279494|\n",
      "| 86963|      1|  4| 3d|      1|    4| 279494|\n",
      "| 86963|      1|  4| 3d|  33679|    1| 279494|\n",
      "| 86963|      1|  4| 3d|     97|    1| 704376|\n",
      "| 86963|      1|  4| 3d|  59784|    3| 704376|\n",
      "| 86963|      1|  4| 3d|   5218|    3| 704376|\n",
      "| 86963|      1|  4| 3d|  64197|    1| 704376|\n",
      "| 86963|      1|  4| 3d|  55995|    5| 704376|\n",
      "| 86963|      1|  4| 3d|  66097|    2| 704376|\n",
      "| 86963|      1|  4| 3d|  66097|   -1| 554317|\n",
      "| 86963|      1|  4| 3d|  68954|   -1| 554317|\n",
      "+------+-------+---+---+-------+-----+-------+\n",
      "only showing top 20 rows\n",
      "\n"
     ]
    }
   ],
   "source": [
    "all_data.show()"
   ]
  },
  {
   "cell_type": "code",
   "execution_count": 234,
   "id": "4447ea23",
   "metadata": {},
   "outputs": [],
   "source": [
    "joined = all_data.join(joinedDF, ['item_id'])"
   ]
  },
  {
   "cell_type": "code",
   "execution_count": 235,
   "id": "5cb1c7de",
   "metadata": {},
   "outputs": [
    {
     "name": "stderr",
     "output_type": "stream",
     "text": [
      "[Stage 1051:=====================================>                  (2 + 1) / 3]\r"
     ]
    },
    {
     "name": "stdout",
     "output_type": "stream",
     "text": [
      "+-------+------+---+---------------+-------+-----+-------+---------+---------+-------------+-------+--------------------+--------------+------+-------+\n",
      "|item_id|tag_id|num|            tag|item_id|score|user_id|avgRating|dateAdded|   directedBy| imdbId|            starring|         title|rating|user_id|\n",
      "+-------+------+---+---------------+-------+-----+-------+---------+---------+-------------+-------+--------------------+--------------+------+-------+\n",
      "|     26| 91212|  2|based on a play|   3030|   -1| 277637|  3.60747|     null|Oliver Parker|0114057|Kenneth Branagh, ...|Othello (1995)|   3.0| 501777|\n",
      "|     26| 91212|  2|based on a play|   3030|   -1| 277637|  3.60747|     null|Oliver Parker|0114057|Kenneth Branagh, ...|Othello (1995)|   3.0| 797744|\n",
      "|     26| 91212|  2|based on a play|   3030|   -1| 277637|  3.60747|     null|Oliver Parker|0114057|Kenneth Branagh, ...|Othello (1995)|   3.0| 257286|\n",
      "|     26| 91212|  2|based on a play|   3030|   -1| 277637|  3.60747|     null|Oliver Parker|0114057|Kenneth Branagh, ...|Othello (1995)|   4.0| 674932|\n",
      "|     26| 91212|  2|based on a play|   3030|   -1| 277637|  3.60747|     null|Oliver Parker|0114057|Kenneth Branagh, ...|Othello (1995)|   3.0| 862603|\n",
      "|     26| 91212|  2|based on a play|   3030|   -1| 277637|  3.60747|     null|Oliver Parker|0114057|Kenneth Branagh, ...|Othello (1995)|   5.0| 231424|\n",
      "|     26| 91212|  2|based on a play|   3030|   -1| 277637|  3.60747|     null|Oliver Parker|0114057|Kenneth Branagh, ...|Othello (1995)|   4.0| 784843|\n",
      "|     26| 91212|  2|based on a play|   3030|   -1| 277637|  3.60747|     null|Oliver Parker|0114057|Kenneth Branagh, ...|Othello (1995)|   2.0| 684459|\n",
      "|     26| 91212|  2|based on a play|   3030|   -1| 277637|  3.60747|     null|Oliver Parker|0114057|Kenneth Branagh, ...|Othello (1995)|   4.0| 283130|\n",
      "|     26| 91212|  2|based on a play|   3030|   -1| 277637|  3.60747|     null|Oliver Parker|0114057|Kenneth Branagh, ...|Othello (1995)|   3.0| 424060|\n",
      "|     26| 91212|  2|based on a play|   3030|   -1| 277637|  3.60747|     null|Oliver Parker|0114057|Kenneth Branagh, ...|Othello (1995)|   4.0| 703306|\n",
      "|     26| 91212|  2|based on a play|   3030|   -1| 277637|  3.60747|     null|Oliver Parker|0114057|Kenneth Branagh, ...|Othello (1995)|   4.0|  10344|\n",
      "|     26| 91212|  2|based on a play|   3030|   -1| 277637|  3.60747|     null|Oliver Parker|0114057|Kenneth Branagh, ...|Othello (1995)|   3.0| 775167|\n",
      "|     26| 91212|  2|based on a play|   3030|   -1| 277637|  3.60747|     null|Oliver Parker|0114057|Kenneth Branagh, ...|Othello (1995)|   3.0| 132091|\n",
      "|     26| 91212|  2|based on a play|   3030|   -1| 277637|  3.60747|     null|Oliver Parker|0114057|Kenneth Branagh, ...|Othello (1995)|   4.0| 841393|\n",
      "|     26| 91212|  2|based on a play|   3030|   -1| 277637|  3.60747|     null|Oliver Parker|0114057|Kenneth Branagh, ...|Othello (1995)|   3.0| 546767|\n",
      "|     26| 91212|  2|based on a play|   3030|   -1| 277637|  3.60747|     null|Oliver Parker|0114057|Kenneth Branagh, ...|Othello (1995)|   3.0|  24487|\n",
      "|     26| 91212|  2|based on a play|   3030|   -1| 277637|  3.60747|     null|Oliver Parker|0114057|Kenneth Branagh, ...|Othello (1995)|   5.0| 975269|\n",
      "|     26| 91212|  2|based on a play|   3030|   -1| 277637|  3.60747|     null|Oliver Parker|0114057|Kenneth Branagh, ...|Othello (1995)|   0.5| 801871|\n",
      "|     26| 91212|  2|based on a play|   3030|   -1| 277637|  3.60747|     null|Oliver Parker|0114057|Kenneth Branagh, ...|Othello (1995)|   3.0|  63956|\n",
      "+-------+------+---+---------------+-------+-----+-------+---------+---------+-------------+-------+--------------------+--------------+------+-------+\n",
      "only showing top 20 rows\n",
      "\n"
     ]
    },
    {
     "name": "stderr",
     "output_type": "stream",
     "text": [
      "\r",
      "[Stage 1053:>                                                       (0 + 1) / 1]\r",
      "\r",
      "                                                                                \r"
     ]
    }
   ],
   "source": [
    "joined.show()"
   ]
  },
  {
   "cell_type": "code",
   "execution_count": 244,
   "id": "fcdc1f1c",
   "metadata": {},
   "outputs": [
    {
     "name": "stderr",
     "output_type": "stream",
     "text": [
      "                                                                                \r"
     ]
    }
   ],
   "source": [
    "#Minimum value of each group \n",
    "\n",
    "all_DF = all_data.groupby('tag').agg({'score': 'max', 'num' : 'max'}).toPandas()"
   ]
  },
  {
   "cell_type": "code",
   "execution_count": 246,
   "id": "6c84cd4b",
   "metadata": {},
   "outputs": [
    {
     "data": {
      "text/html": [
       "<div>\n",
       "<style scoped>\n",
       "    .dataframe tbody tr th:only-of-type {\n",
       "        vertical-align: middle;\n",
       "    }\n",
       "\n",
       "    .dataframe tbody tr th {\n",
       "        vertical-align: top;\n",
       "    }\n",
       "\n",
       "    .dataframe thead th {\n",
       "        text-align: right;\n",
       "    }\n",
       "</style>\n",
       "<table border=\"1\" class=\"dataframe\">\n",
       "  <thead>\n",
       "    <tr style=\"text-align: right;\">\n",
       "      <th></th>\n",
       "      <th>tag</th>\n",
       "      <th>max(score)</th>\n",
       "      <th>max(num)</th>\n",
       "    </tr>\n",
       "  </thead>\n",
       "  <tbody>\n",
       "    <tr>\n",
       "      <th>0</th>\n",
       "      <td>anime</td>\n",
       "      <td>5</td>\n",
       "      <td>203</td>\n",
       "    </tr>\n",
       "    <tr>\n",
       "      <th>1</th>\n",
       "      <td>1970s</td>\n",
       "      <td>5</td>\n",
       "      <td>34</td>\n",
       "    </tr>\n",
       "    <tr>\n",
       "      <th>2</th>\n",
       "      <td>travel</td>\n",
       "      <td>5</td>\n",
       "      <td>56</td>\n",
       "    </tr>\n",
       "    <tr>\n",
       "      <th>3</th>\n",
       "      <td>poetry</td>\n",
       "      <td>5</td>\n",
       "      <td>45</td>\n",
       "    </tr>\n",
       "    <tr>\n",
       "      <th>4</th>\n",
       "      <td>oscar</td>\n",
       "      <td>5</td>\n",
       "      <td>25</td>\n",
       "    </tr>\n",
       "  </tbody>\n",
       "</table>\n",
       "</div>"
      ],
      "text/plain": [
       "      tag  max(score)  max(num)\n",
       "0   anime           5       203\n",
       "1   1970s           5        34\n",
       "2  travel           5        56\n",
       "3  poetry           5        45\n",
       "4   oscar           5        25"
      ]
     },
     "execution_count": 246,
     "metadata": {},
     "output_type": "execute_result"
    }
   ],
   "source": [
    "all_DF.head()"
   ]
  },
  {
   "cell_type": "code",
   "execution_count": 253,
   "id": "14e1ceab",
   "metadata": {},
   "outputs": [],
   "source": [
    "sorted_df = all_DF.sort_values(by='max(num)', ascending=False)[:15]"
   ]
  },
  {
   "cell_type": "code",
   "execution_count": 255,
   "id": "d31e3b0f",
   "metadata": {},
   "outputs": [
    {
     "data": {
      "image/png": "[encoded data removed]",
      "text/plain": [
       "<Figure size 432x288 with 1 Axes>"
      ]
     },
     "metadata": {
      "needs_background": "light"
     },
     "output_type": "display_data"
    }
   ],
   "source": [
    "sorted_df.groupby('tag')['max(num)'].sum().sort_values(ascending=False).plot(kind='bar');"
   ]
  },
  {
   "cell_type": "code",
   "execution_count": 127,
   "id": "cf33da17",
   "metadata": {},
   "outputs": [
    {
     "name": "stdout",
     "output_type": "stream",
     "text": [
      "+-------+-----+------+-------+\n",
      "|item_id|score|tag_id|user_id|\n",
      "+-------+-----+------+-------+\n",
      "|   3108|    3| 50126| 978707|\n",
      "|   2858|    1| 50126| 978707|\n",
      "|   1269|    1| 50126| 978707|\n",
      "|   1136|    1| 50126| 978707|\n",
      "|   1220|    1| 50126| 978707|\n",
      "|   1212|    1| 50126| 978707|\n",
      "|    849|    3| 52623| 978707|\n",
      "|    592|    5| 52623| 978707|\n",
      "|   6934|    5| 52623| 978707|\n",
      "|   1580|    4| 52623| 978707|\n",
      "|     10|    3| 52623| 978707|\n",
      "|    434|    2| 52623| 978707|\n",
      "|   2916|    5| 51703| 978707|\n",
      "|     32|    5| 51703| 978707|\n",
      "|   1240|    1| 51703| 978707|\n",
      "|   3681|    1| 51703| 978707|\n",
      "|    541|    1| 51703| 978707|\n",
      "|   1209|    1| 51703| 978707|\n",
      "|   2997|    2| 29527| 978707|\n",
      "|    750|    5| 29527| 978707|\n",
      "+-------+-----+------+-------+\n",
      "only showing top 20 rows\n",
      "\n"
     ]
    }
   ],
   "source": [
    "#survey_answers.json\n",
    "\n",
    "surveys = spark.read.json(\"/FP/survey_answers.json\")\n",
    "surveys.show()"
   ]
  },
  {
   "cell_type": "code",
   "execution_count": 55,
   "id": "c876f7cf",
   "metadata": {},
   "outputs": [
    {
     "name": "stderr",
     "output_type": "stream",
     "text": [
      "                                                                                \r"
     ]
    },
    {
     "name": "stdout",
     "output_type": "stream",
     "text": [
      "+-------+------+-------+\n",
      "|item_id|rating|user_id|\n",
      "+-------+------+-------+\n",
      "|      5|   3.0| 997206|\n",
      "|     10|   4.0| 997206|\n",
      "|     13|   4.0| 997206|\n",
      "|     17|   5.0| 997206|\n",
      "|     21|   4.0| 997206|\n",
      "|     28|   5.0| 997206|\n",
      "|     31|   4.0| 997206|\n",
      "|     39|   3.0| 997206|\n",
      "|     40|   4.0| 997206|\n",
      "|     45|   2.0| 997206|\n",
      "|     46|   4.0| 997206|\n",
      "|     50|   5.0| 997206|\n",
      "|     62|   4.0| 997206|\n",
      "|     74|   5.0| 997206|\n",
      "|     85|   2.0| 997206|\n",
      "|    110|   5.0| 997206|\n",
      "|    112|   4.0| 997206|\n",
      "|    141|   4.0| 997206|\n",
      "|    150|   3.0| 997206|\n",
      "|    161|   3.0| 997206|\n",
      "+-------+------+-------+\n",
      "only showing top 20 rows\n",
      "\n"
     ]
    }
   ],
   "source": [
    "ratings = spark.read.json(\"/FP/ratings.json\")\n",
    "ratings.show()"
   ]
  },
  {
   "cell_type": "code",
   "execution_count": 56,
   "id": "8cd20df6",
   "metadata": {},
   "outputs": [
    {
     "name": "stdout",
     "output_type": "stream",
     "text": [
      "Number of partitions for the ratings DataFrame: 96\n"
     ]
    }
   ],
   "source": [
    "print('Number of partitions for the ratings DataFrame: {}'.format(ratings.rdd.getNumPartitions()))"
   ]
  },
  {
   "cell_type": "code",
   "execution_count": 76,
   "id": "943a62d2",
   "metadata": {},
   "outputs": [],
   "source": [
    "training, test = ratings.randomSplit(weights = [0.90, 0.10], seed = 13)"
   ]
  },
  {
   "cell_type": "code",
   "execution_count": 77,
   "id": "f238e77c",
   "metadata": {},
   "outputs": [
    {
     "name": "stderr",
     "output_type": "stream",
     "text": [
      "                                                                                \r"
     ]
    }
   ],
   "source": [
    "from pyspark.ml.recommendation import ALS\n",
    "\n",
    "als = ALS(maxIter=5, regParam=0.01, rank = 2, userCol=\"user_id\", itemCol=\"item_id\", ratingCol=\"rating\",\n",
    "          coldStartStrategy=\"drop\")\n",
    "model = als.fit(training)"
   ]
  },
  {
   "cell_type": "code",
   "execution_count": 78,
   "id": "a22cc46a",
   "metadata": {},
   "outputs": [
    {
     "name": "stderr",
     "output_type": "stream",
     "text": [
      "[Stage 536:===============================================>    (182 + 12) / 200]\r"
     ]
    },
    {
     "name": "stdout",
     "output_type": "stream",
     "text": [
      "Root-mean-square error = 0.9011571792887859\n"
     ]
    },
    {
     "name": "stderr",
     "output_type": "stream",
     "text": [
      "\r",
      "                                                                                \r"
     ]
    }
   ],
   "source": [
    "from pyspark.ml.evaluation import RegressionEvaluator\n",
    "\n",
    "# Evaluate the model by computing the RMSE on the test data\n",
    "predictions = model.transform(test)\n",
    "evaluator = RegressionEvaluator(metricName=\"rmse\", labelCol=\"rating\",\n",
    "                                predictionCol=\"prediction\")\n",
    "rmse = evaluator.evaluate(predictions)\n",
    "print(\"Root-mean-square error = \" + str(rmse))"
   ]
  },
  {
   "cell_type": "code",
   "execution_count": 79,
   "id": "8e4f41d6",
   "metadata": {},
   "outputs": [
    {
     "name": "stderr",
     "output_type": "stream",
     "text": [
      "[Stage 555:===================================================> (195 + 5) / 200]\r"
     ]
    },
    {
     "name": "stdout",
     "output_type": "stream",
     "text": [
      "Root-mean-square error = 0.9011571792887861\n"
     ]
    },
    {
     "name": "stderr",
     "output_type": "stream",
     "text": [
      "\r",
      "                                                                                \r"
     ]
    }
   ],
   "source": [
    "# Evaluate the model by computing the RMSE on the test data\n",
    "predictions = model.transform(test)\n",
    "evaluator = RegressionEvaluator(metricName=\"rmse\", labelCol=\"rating\",\n",
    "                                predictionCol=\"prediction\")\n",
    "rmse = evaluator.evaluate(predictions)\n",
    "print(\"Root-mean-square error = \" + str(rmse))"
   ]
  },
  {
   "cell_type": "code",
   "execution_count": 80,
   "id": "4f04c5ef",
   "metadata": {},
   "outputs": [],
   "source": [
    "# Generate top 10 movie recommendations for each user\n",
    "userRecs = model.recommendForAllUsers(10)\n",
    "\n",
    "\n",
    "# Generate top 10 user recommendations for each movie\n",
    "movieRecs = model.recommendForAllItems(10)"
   ]
  },
  {
   "cell_type": "code",
   "execution_count": 118,
   "id": "278a517c",
   "metadata": {},
   "outputs": [
    {
     "name": "stderr",
     "output_type": "stream",
     "text": [
      "[Stage 836:====================================================> (97 + 3) / 100]\r"
     ]
    },
    {
     "name": "stdout",
     "output_type": "stream",
     "text": [
      "+-------+--------------------+\n",
      "|user_id|     recommendations|\n",
      "+-------+--------------------+\n",
      "|    148|[[117182, 69.1636...|\n",
      "|    471|[[117182, 91.2949...|\n",
      "|   1829|[[117182, 94.5355...|\n",
      "|   1959|[[117182, 98.3329...|\n",
      "|   2122|[[117182, 82.4464...|\n",
      "|   3749|[[117182, 61.8627...|\n",
      "|   3918|[[117182, 112.947...|\n",
      "|   4101|[[117182, 102.416...|\n",
      "|   4818|[[117182, 108.022...|\n",
      "|   5518|[[117182, 84.7156...|\n",
      "|   5803|[[117182, 82.0787...|\n",
      "|   6336|[[197157, 83.0040...|\n",
      "|   6397|[[117182, 87.4372...|\n",
      "|   6466|[[117182, 96.6786...|\n",
      "|   7253|[[117182, 122.741...|\n",
      "|  10623|[[117182, 100.024...|\n",
      "|  10817|[[117182, 79.9851...|\n",
      "|  14450|[[117182, 125.085...|\n",
      "|  14570|[[117182, 101.985...|\n",
      "|  15619|[[117182, 109.009...|\n",
      "+-------+--------------------+\n",
      "only showing top 20 rows\n",
      "\n"
     ]
    },
    {
     "name": "stderr",
     "output_type": "stream",
     "text": [
      "\r",
      "[Stage 836:=====================================================>(99 + 1) / 100]\r",
      "\r",
      "                                                                                \r"
     ]
    }
   ],
   "source": [
    "userRecs.show()"
   ]
  },
  {
   "cell_type": "code",
   "execution_count": 114,
   "id": "ceccaf7c",
   "metadata": {},
   "outputs": [
    {
     "name": "stderr",
     "output_type": "stream",
     "text": [
      "                                                                                \r"
     ]
    },
    {
     "data": {
      "text/plain": [
       "[Row(item_id=[117182, 144144, 167102, 153644, 153977, 209455, 154206, 153204, 160702, 27673])]"
      ]
     },
     "execution_count": 114,
     "metadata": {},
     "output_type": "execute_result"
    }
   ],
   "source": [
    "userRecs.where(userRecs.user_id == 148).select(\"recommendations.item_id\").collect()"
   ]
  },
  {
   "cell_type": "code",
   "execution_count": 121,
   "id": "57ac65e9",
   "metadata": {},
   "outputs": [
    {
     "data": {
      "text/html": [
       "<div>\n",
       "<style scoped>\n",
       "    .dataframe tbody tr th:only-of-type {\n",
       "        vertical-align: middle;\n",
       "    }\n",
       "\n",
       "    .dataframe tbody tr th {\n",
       "        vertical-align: top;\n",
       "    }\n",
       "\n",
       "    .dataframe thead th {\n",
       "        text-align: right;\n",
       "    }\n",
       "</style>\n",
       "<table border=\"1\" class=\"dataframe\">\n",
       "  <thead>\n",
       "    <tr style=\"text-align: right;\">\n",
       "      <th></th>\n",
       "      <th>avgRating</th>\n",
       "      <th>dateAdded</th>\n",
       "      <th>directedBy</th>\n",
       "      <th>imdbId</th>\n",
       "      <th>item_id</th>\n",
       "      <th>starring</th>\n",
       "      <th>title</th>\n",
       "    </tr>\n",
       "  </thead>\n",
       "  <tbody>\n",
       "    <tr>\n",
       "      <th>0</th>\n",
       "      <td>3.16667</td>\n",
       "      <td>2014-11-17T22:26:06</td>\n",
       "      <td>Sharon Lockhart</td>\n",
       "      <td>1757733</td>\n",
       "      <td>117182</td>\n",
       "      <td></td>\n",
       "      <td>Double Tide (2010)</td>\n",
       "    </tr>\n",
       "  </tbody>\n",
       "</table>\n",
       "</div>"
      ],
      "text/plain": [
       "   avgRating            dateAdded       directedBy   imdbId  item_id starring  \\\n",
       "0    3.16667  2014-11-17T22:26:06  Sharon Lockhart  1757733   117182            \n",
       "\n",
       "                title  \n",
       "0  Double Tide (2010)  "
      ]
     },
     "execution_count": 121,
     "metadata": {},
     "output_type": "execute_result"
    }
   ],
   "source": [
    "movies_info.filter(movies_info.item_id == 117182).toPandas()"
   ]
  },
  {
   "cell_type": "code",
   "execution_count": 13,
   "id": "022f7c61",
   "metadata": {},
   "outputs": [
    {
     "name": "stderr",
     "output_type": "stream",
     "text": [
      "                                                                                \r"
     ]
    },
    {
     "data": {
      "text/plain": [
       "[Row(user_id=[277091, 256579, 622619, 934657, 686549, 404258, 655635, 17666, 179222, 181130], rating=[6.269768238067627, 5.970066070556641, 5.958440780639648, 5.917179107666016, 5.811573028564453, 5.789891719818115, 5.757927417755127, 5.713595867156982, 5.6522016525268555, 5.646612167358398])]"
      ]
     },
     "execution_count": 13,
     "metadata": {},
     "output_type": "execute_result"
    }
   ],
   "source": [
    "movieRecs.where(movieRecs.item_id == 2).select(\"recommendations.user_id\", \"recommendations.rating\").collect()"
   ]
  },
  {
   "cell_type": "code",
   "execution_count": 14,
   "id": "929835a1",
   "metadata": {},
   "outputs": [],
   "source": [
    "# Generate top 10 movie recommendations for a specified set of users\n",
    "users = ratings.select(als.getUserCol()).distinct().limit(1)\n",
    "userSubsetRecs = model.recommendForUserSubset(users, 10)\n",
    "# Generate top 10 user recommendations for a specified set of movies\n",
    "movies = ratings.select(als.getItemCol()).distinct().limit(1)\n",
    "movieSubSetRecs = model.recommendForItemSubset(movies, 10)"
   ]
  },
  {
   "cell_type": "code",
   "execution_count": 15,
   "id": "53c1115e",
   "metadata": {
    "scrolled": true
   },
   "outputs": [
    {
     "name": "stderr",
     "output_type": "stream",
     "text": [
      "[Stage 119:=====================================================> (94 + 2) / 96]\r"
     ]
    },
    {
     "name": "stdout",
     "output_type": "stream",
     "text": [
      "+-------+\n",
      "|user_id|\n",
      "+-------+\n",
      "| 964213|\n",
      "+-------+\n",
      "\n"
     ]
    },
    {
     "name": "stderr",
     "output_type": "stream",
     "text": [
      "\r",
      "                                                                                \r"
     ]
    }
   ],
   "source": [
    "users.show()"
   ]
  },
  {
   "cell_type": "code",
   "execution_count": 16,
   "id": "bd1f2a51",
   "metadata": {},
   "outputs": [
    {
     "name": "stderr",
     "output_type": "stream",
     "text": [
      "[Stage 122:====================================================>  (91 + 5) / 96]\r"
     ]
    },
    {
     "name": "stdout",
     "output_type": "stream",
     "text": [
      "+-------+\n",
      "|item_id|\n",
      "+-------+\n",
      "|    296|\n",
      "+-------+\n",
      "\n"
     ]
    },
    {
     "name": "stderr",
     "output_type": "stream",
     "text": [
      "\r",
      "                                                                                \r"
     ]
    }
   ],
   "source": [
    "# End of the Affair, The (1999)|\n",
    "movies.show()"
   ]
  },
  {
   "cell_type": "code",
   "execution_count": 17,
   "id": "ed965438",
   "metadata": {
    "scrolled": true
   },
   "outputs": [
    {
     "name": "stderr",
     "output_type": "stream",
     "text": [
      "                                                                                \r"
     ]
    },
    {
     "data": {
      "text/plain": [
       "[Row(item_id=[26549, 182521, 178501, 95159, 138400, 194480, 153002, 125982, 7699, 181853], rating=[13.904430389404297, 11.355958938598633, 10.820833206176758, 10.186515808105469, 9.753451347351074, 9.711426734924316, 9.087898254394531, 9.012482643127441, 8.897541046142578, 8.76358413696289])]"
      ]
     },
     "execution_count": 17,
     "metadata": {},
     "output_type": "execute_result"
    }
   ],
   "source": [
    "userSubsetRecs.select(\"recommendations.item_id\", \"recommendations.rating\").collect()"
   ]
  },
  {
   "cell_type": "code",
   "execution_count": 18,
   "id": "1ee0cd7f",
   "metadata": {},
   "outputs": [
    {
     "name": "stderr",
     "output_type": "stream",
     "text": [
      "                                                                                \r"
     ]
    },
    {
     "data": {
      "text/plain": [
       "[Row(user_id=[232209, 556618, 342386, 301480, 491579, 175243, 774093, 543561, 602858, 878366], rating=[9.360615730285645, 8.264141082763672, 8.1810941696167, 8.106060028076172, 8.076605796813965, 8.041015625, 7.968531131744385, 7.685000419616699, 7.645286560058594, 7.570684432983398])]"
      ]
     },
     "execution_count": 18,
     "metadata": {},
     "output_type": "execute_result"
    }
   ],
   "source": [
    "# Generate top 10 user recommendations for a specified movie (Pulp Fiction (1994))\n",
    "\n",
    "\n",
    "movieSubSetRecs.select(\"recommendations.user_id\", \"recommendations.rating\").collect()"
   ]
  },
  {
   "cell_type": "code",
   "execution_count": 109,
   "id": "4271b65f",
   "metadata": {},
   "outputs": [
    {
     "name": "stdout",
     "output_type": "stream",
     "text": [
      "+-------+--------------------+\n",
      "|item_id|     recommendations|\n",
      "+-------+--------------------+\n",
      "|   3703|[[140975, 7.12631...|\n",
      "+-------+--------------------+\n",
      "\n"
     ]
    }
   ],
   "source": [
    "movieSubSetRecs.show()"
   ]
  },
  {
   "cell_type": "code",
   "execution_count": 20,
   "id": "b928d2a5",
   "metadata": {},
   "outputs": [
    {
     "name": "stdout",
     "output_type": "stream",
     "text": [
      "+---------+---------+--------------------+-------+-------+--------------------+--------------------+\n",
      "|avgRating|dateAdded|          directedBy| imdbId|item_id|            starring|               title|\n",
      "+---------+---------+--------------------+-------+-------+--------------------+--------------------+\n",
      "|  3.89146|     null|       John Lasseter|0114709|      1|Tim Allen, Tom Ha...|    Toy Story (1995)|\n",
      "|  3.26605|     null|        Joe Johnston|0113497|      2|Jonathan Hyde, Br...|      Jumanji (1995)|\n",
      "|  3.17146|     null|       Howard Deutch|0113228|      3|Jack Lemmon, Walt...|Grumpier Old Men ...|\n",
      "|  2.86824|     null|     Forest Whitaker|0114885|      4|Angela Bassett, L...|Waiting to Exhale...|\n",
      "|   3.0762|     null|       Charles Shyer|0113041|      5|Steve Martin, Mar...|Father of the Bri...|\n",
      "|  3.85549|     null|        Michael Mann|0113277|      6|Robert De Niro, A...|         Heat (1995)|\n",
      "|  3.37244|     null|      Sydney Pollack|0114319|      7|Harrison Ford, Gr...|      Sabrina (1995)|\n",
      "|  3.11678|     null|        Peter Hewitt|0112302|      8|Jonathan Taylor T...| Tom and Huck (1995)|\n",
      "|  3.00242|     null|         Peter Hyams|0114576|      9|Raymond J. Barry,...| Sudden Death (1995)|\n",
      "|   3.4334|     null|     Martin Campbell|0113189|     10|Pierce Brosnan, S...|    GoldenEye (1995)|\n",
      "|  3.66058|     null|          Rob Reiner|0112346|     11|Michael Douglas, ...|American Presiden...|\n",
      "|  2.67668|     null|          Mel Brooks|0112896|     12|Peter MacNicol, L...|Dracula: Dead and...|\n",
      "|  3.34382|     null|         Simon Wells|0112453|     13|Kevin Bacon, Jim ...|        Balto (1995)|\n",
      "|  3.42846|     null|        Oliver Stone|0113987|     14|Anthony Hopkins, ...|        Nixon (1995)|\n",
      "|  2.73427|     null|        Renny Harlin|0112760|     15|Maury Chaykin, Fr...|Cutthroat Island ...|\n",
      "|  3.82016|     null|     Martin Scorsese|0112641|     16|Robert De Niro, J...|       Casino (1995)|\n",
      "|  3.94589|     null|             Ang Lee|0114388|     17|Hugh Grant, Alan ...|Sense and Sensibi...|\n",
      "|  3.41608|     null|Allison Anders, A...|0113101|     18|Sammi Davis, Aman...|   Four Rooms (1995)|\n",
      "|  2.65943|     null|      Steve Oedekerk|0112281|     19|Simon Callow, Jim...|Ace Ventura: When...|\n",
      "|  2.89166|     null|        Joseph Ruben|0113845|     20|Wesley Snipes, Wo...|  Money Train (1995)|\n",
      "+---------+---------+--------------------+-------+-------+--------------------+--------------------+\n",
      "only showing top 20 rows\n",
      "\n"
     ]
    }
   ],
   "source": [
    "movies_info = spark.read.json(\"/FP/metadata.json\")\n",
    "movies_info.show()"
   ]
  },
  {
   "cell_type": "code",
   "execution_count": 45,
   "id": "9661892c",
   "metadata": {},
   "outputs": [],
   "source": [
    "joinedDF = movies_info.join(ratings, ['item_id'])"
   ]
  },
  {
   "cell_type": "code",
   "execution_count": 47,
   "id": "98e94734",
   "metadata": {},
   "outputs": [
    {
     "name": "stderr",
     "output_type": "stream",
     "text": [
      "[Stage 308:=====================================================> (93 + 3) / 96]\r"
     ]
    },
    {
     "name": "stdout",
     "output_type": "stream",
     "text": [
      "+-------+---------+---------+-------------+-------+--------------------+--------------+------+-------+\n",
      "|item_id|avgRating|dateAdded|   directedBy| imdbId|            starring|         title|rating|user_id|\n",
      "+-------+---------+---------+-------------+-------+--------------------+--------------+------+-------+\n",
      "|     26|  3.60747|     null|Oliver Parker|0114057|Kenneth Branagh, ...|Othello (1995)|   3.0| 230914|\n",
      "|     26|  3.60747|     null|Oliver Parker|0114057|Kenneth Branagh, ...|Othello (1995)|   3.0| 661874|\n",
      "|     26|  3.60747|     null|Oliver Parker|0114057|Kenneth Branagh, ...|Othello (1995)|   1.0| 605885|\n",
      "|     26|  3.60747|     null|Oliver Parker|0114057|Kenneth Branagh, ...|Othello (1995)|   3.5| 644632|\n",
      "|     26|  3.60747|     null|Oliver Parker|0114057|Kenneth Branagh, ...|Othello (1995)|   5.0| 897262|\n",
      "|     26|  3.60747|     null|Oliver Parker|0114057|Kenneth Branagh, ...|Othello (1995)|   3.0|  78411|\n",
      "|     26|  3.60747|     null|Oliver Parker|0114057|Kenneth Branagh, ...|Othello (1995)|   3.0| 991447|\n",
      "|     26|  3.60747|     null|Oliver Parker|0114057|Kenneth Branagh, ...|Othello (1995)|   3.0| 895723|\n",
      "|     26|  3.60747|     null|Oliver Parker|0114057|Kenneth Branagh, ...|Othello (1995)|   3.0| 433368|\n",
      "|     26|  3.60747|     null|Oliver Parker|0114057|Kenneth Branagh, ...|Othello (1995)|   4.0| 428098|\n",
      "|     26|  3.60747|     null|Oliver Parker|0114057|Kenneth Branagh, ...|Othello (1995)|   4.0| 173813|\n",
      "|     26|  3.60747|     null|Oliver Parker|0114057|Kenneth Branagh, ...|Othello (1995)|   5.0| 119391|\n",
      "|     26|  3.60747|     null|Oliver Parker|0114057|Kenneth Branagh, ...|Othello (1995)|   3.0| 846638|\n",
      "|     26|  3.60747|     null|Oliver Parker|0114057|Kenneth Branagh, ...|Othello (1995)|   4.0| 192378|\n",
      "|     26|  3.60747|     null|Oliver Parker|0114057|Kenneth Branagh, ...|Othello (1995)|   3.0| 910663|\n",
      "|     26|  3.60747|     null|Oliver Parker|0114057|Kenneth Branagh, ...|Othello (1995)|   3.0| 842355|\n",
      "|     26|  3.60747|     null|Oliver Parker|0114057|Kenneth Branagh, ...|Othello (1995)|   3.0|  55224|\n",
      "|     26|  3.60747|     null|Oliver Parker|0114057|Kenneth Branagh, ...|Othello (1995)|   4.0| 904309|\n",
      "|     26|  3.60747|     null|Oliver Parker|0114057|Kenneth Branagh, ...|Othello (1995)|   4.0| 268375|\n",
      "|     26|  3.60747|     null|Oliver Parker|0114057|Kenneth Branagh, ...|Othello (1995)|   3.5| 893992|\n",
      "+-------+---------+---------+-------------+-------+--------------------+--------------+------+-------+\n",
      "only showing top 20 rows\n",
      "\n"
     ]
    },
    {
     "name": "stderr",
     "output_type": "stream",
     "text": [
      "\r",
      "                                                                                \r"
     ]
    }
   ],
   "source": [
    "joinedDF.show()"
   ]
  },
  {
   "cell_type": "code",
   "execution_count": null,
   "id": "79e70787",
   "metadata": {},
   "outputs": [],
   "source": []
  },
  {
   "cell_type": "code",
   "execution_count": 1,
   "id": "764168e3-3b62-47ee-9435-407b1a7b5e7d",
   "metadata": {},
   "outputs": [],
   "source": [
    "import pandas as pd\n",
    "import numpy as np\n",
    "import matplotlib.pyplot as plt\n",
    "import seaborn as sns"
   ]
  },
  {
   "cell_type": "code",
   "execution_count": 2,
   "id": "92f7d69e-138d-4403-89b8-05891e313b0c",
   "metadata": {},
   "outputs": [],
   "source": [
    "movies=pd.read_csv('ml-25m/movies.csv')\n",
    "rates=pd.read_csv('ml-25m/ratings.csv')\n",
    "links=pd.read_csv('ml-25m/links.csv')\n",
    "tags=pd.read_csv('ml-25m/tags.csv')\n",
    "genome_scores=pd.read_csv('ml-25m/genome-scores.csv')\n",
    "genome_tags=pd.read_csv('ml-25m/genome-tags.csv')"
   ]
  },
  {
   "cell_type": "code",
   "execution_count": 15,
   "id": "8a120a09-ae18-4b23-b075-099b561bd782",
   "metadata": {},
   "outputs": [
    {
     "data": {
      "text/html": [
       "<div>\n",
       "<style scoped>\n",
       "    .dataframe tbody tr th:only-of-type {\n",
       "        vertical-align: middle;\n",
       "    }\n",
       "\n",
       "    .dataframe tbody tr th {\n",
       "        vertical-align: top;\n",
       "    }\n",
       "\n",
       "    .dataframe thead th {\n",
       "        text-align: right;\n",
       "    }\n",
       "</style>\n",
       "<table border=\"1\" class=\"dataframe\">\n",
       "  <thead>\n",
       "    <tr style=\"text-align: right;\">\n",
       "      <th></th>\n",
       "      <th>userId</th>\n",
       "      <th>movieId</th>\n",
       "      <th>rating</th>\n",
       "      <th>timestamp</th>\n",
       "    </tr>\n",
       "  </thead>\n",
       "  <tbody>\n",
       "    <tr>\n",
       "      <th>0</th>\n",
       "      <td>1</td>\n",
       "      <td>296</td>\n",
       "      <td>5.0</td>\n",
       "      <td>1147880044</td>\n",
       "    </tr>\n",
       "    <tr>\n",
       "      <th>1</th>\n",
       "      <td>1</td>\n",
       "      <td>306</td>\n",
       "      <td>3.5</td>\n",
       "      <td>1147868817</td>\n",
       "    </tr>\n",
       "    <tr>\n",
       "      <th>2</th>\n",
       "      <td>1</td>\n",
       "      <td>307</td>\n",
       "      <td>5.0</td>\n",
       "      <td>1147868828</td>\n",
       "    </tr>\n",
       "    <tr>\n",
       "      <th>3</th>\n",
       "      <td>1</td>\n",
       "      <td>665</td>\n",
       "      <td>5.0</td>\n",
       "      <td>1147878820</td>\n",
       "    </tr>\n",
       "    <tr>\n",
       "      <th>4</th>\n",
       "      <td>1</td>\n",
       "      <td>899</td>\n",
       "      <td>3.5</td>\n",
       "      <td>1147868510</td>\n",
       "    </tr>\n",
       "  </tbody>\n",
       "</table>\n",
       "</div>"
      ],
      "text/plain": [
       "   userId  movieId  rating   timestamp\n",
       "0       1      296     5.0  1147880044\n",
       "1       1      306     3.5  1147868817\n",
       "2       1      307     5.0  1147868828\n",
       "3       1      665     5.0  1147878820\n",
       "4       1      899     3.5  1147868510"
      ]
     },
     "execution_count": 15,
     "metadata": {},
     "output_type": "execute_result"
    }
   ],
   "source": [
    "rates.head()"
   ]
  },
  {
   "cell_type": "code",
   "execution_count": 20,
   "id": "c26ece43-6fa1-4f84-84ca-b121f3812898",
   "metadata": {},
   "outputs": [
    {
     "data": {
      "text/html": [
       "<div>\n",
       "<style scoped>\n",
       "    .dataframe tbody tr th:only-of-type {\n",
       "        vertical-align: middle;\n",
       "    }\n",
       "\n",
       "    .dataframe tbody tr th {\n",
       "        vertical-align: top;\n",
       "    }\n",
       "\n",
       "    .dataframe thead th {\n",
       "        text-align: right;\n",
       "    }\n",
       "</style>\n",
       "<table border=\"1\" class=\"dataframe\">\n",
       "  <thead>\n",
       "    <tr style=\"text-align: right;\">\n",
       "      <th></th>\n",
       "      <th>movieId</th>\n",
       "      <th>title</th>\n",
       "      <th>genres</th>\n",
       "    </tr>\n",
       "  </thead>\n",
       "  <tbody>\n",
       "    <tr>\n",
       "      <th>0</th>\n",
       "      <td>1</td>\n",
       "      <td>Toy Story (1995)</td>\n",
       "      <td>Adventure|Animation|Children|Comedy|Fantasy</td>\n",
       "    </tr>\n",
       "    <tr>\n",
       "      <th>1</th>\n",
       "      <td>2</td>\n",
       "      <td>Jumanji (1995)</td>\n",
       "      <td>Adventure|Children|Fantasy</td>\n",
       "    </tr>\n",
       "    <tr>\n",
       "      <th>2</th>\n",
       "      <td>3</td>\n",
       "      <td>Grumpier Old Men (1995)</td>\n",
       "      <td>Comedy|Romance</td>\n",
       "    </tr>\n",
       "    <tr>\n",
       "      <th>3</th>\n",
       "      <td>4</td>\n",
       "      <td>Waiting to Exhale (1995)</td>\n",
       "      <td>Comedy|Drama|Romance</td>\n",
       "    </tr>\n",
       "    <tr>\n",
       "      <th>4</th>\n",
       "      <td>5</td>\n",
       "      <td>Father of the Bride Part II (1995)</td>\n",
       "      <td>Comedy</td>\n",
       "    </tr>\n",
       "  </tbody>\n",
       "</table>\n",
       "</div>"
      ],
      "text/plain": [
       "   movieId                               title  \\\n",
       "0        1                    Toy Story (1995)   \n",
       "1        2                      Jumanji (1995)   \n",
       "2        3             Grumpier Old Men (1995)   \n",
       "3        4            Waiting to Exhale (1995)   \n",
       "4        5  Father of the Bride Part II (1995)   \n",
       "\n",
       "                                        genres  \n",
       "0  Adventure|Animation|Children|Comedy|Fantasy  \n",
       "1                   Adventure|Children|Fantasy  \n",
       "2                               Comedy|Romance  \n",
       "3                         Comedy|Drama|Romance  \n",
       "4                                       Comedy  "
      ]
     },
     "execution_count": 20,
     "metadata": {},
     "output_type": "execute_result"
    }
   ],
   "source": [
    "movies.head()"
   ]
  },
  {
   "cell_type": "code",
   "execution_count": 3,
   "id": "15f77538-d789-43cd-9a03-f149c09b07a2",
   "metadata": {},
   "outputs": [],
   "source": [
    "data = rates.merge(movies,on='movieId', how='left')"
   ]
  },
  {
   "cell_type": "code",
   "execution_count": 4,
   "id": "fe8a9eed-31d5-4e87-9dea-a88a856b3463",
   "metadata": {},
   "outputs": [],
   "source": [
    "Average_ratings = pd.DataFrame(data.groupby('title')['rating'].mean())"
   ]
  },
  {
   "cell_type": "code",
   "execution_count": 5,
   "id": "07017ea0-1095-4f1a-b4ec-26f7500af03c",
   "metadata": {},
   "outputs": [
    {
     "data": {
      "text/html": [
       "<div>\n",
       "<style scoped>\n",
       "    .dataframe tbody tr th:only-of-type {\n",
       "        vertical-align: middle;\n",
       "    }\n",
       "\n",
       "    .dataframe tbody tr th {\n",
       "        vertical-align: top;\n",
       "    }\n",
       "\n",
       "    .dataframe thead th {\n",
       "        text-align: right;\n",
       "    }\n",
       "</style>\n",
       "<table border=\"1\" class=\"dataframe\">\n",
       "  <thead>\n",
       "    <tr style=\"text-align: right;\">\n",
       "      <th></th>\n",
       "      <th>rating</th>\n",
       "    </tr>\n",
       "    <tr>\n",
       "      <th>title</th>\n",
       "      <th></th>\n",
       "    </tr>\n",
       "  </thead>\n",
       "  <tbody>\n",
       "    <tr>\n",
       "      <th>Full of Grace (2015)</th>\n",
       "      <td>5.0</td>\n",
       "    </tr>\n",
       "    <tr>\n",
       "      <th>Geordie (1955)</th>\n",
       "      <td>5.0</td>\n",
       "    </tr>\n",
       "    <tr>\n",
       "      <th>Garfield In Paradise (1986)</th>\n",
       "      <td>5.0</td>\n",
       "    </tr>\n",
       "    <tr>\n",
       "      <th>Lost Woods (2012)</th>\n",
       "      <td>5.0</td>\n",
       "    </tr>\n",
       "    <tr>\n",
       "      <th>Garfield in the Rough (1984)</th>\n",
       "      <td>5.0</td>\n",
       "    </tr>\n",
       "    <tr>\n",
       "      <th>Lost Time (2014)</th>\n",
       "      <td>5.0</td>\n",
       "    </tr>\n",
       "    <tr>\n",
       "      <th>Who Killed Chea Vichea? (2010)</th>\n",
       "      <td>5.0</td>\n",
       "    </tr>\n",
       "    <tr>\n",
       "      <th>Lost Rivers (2013)</th>\n",
       "      <td>5.0</td>\n",
       "    </tr>\n",
       "    <tr>\n",
       "      <th>Who Killed Johnny (2013)</th>\n",
       "      <td>5.0</td>\n",
       "    </tr>\n",
       "    <tr>\n",
       "      <th>Generation Baby Buster (2011)</th>\n",
       "      <td>5.0</td>\n",
       "    </tr>\n",
       "    <tr>\n",
       "      <th>Genesis</th>\n",
       "      <td>5.0</td>\n",
       "    </tr>\n",
       "    <tr>\n",
       "      <th>Loss Prevention (2015)</th>\n",
       "      <td>5.0</td>\n",
       "    </tr>\n",
       "    <tr>\n",
       "      <th>Genius on Hold (2013)</th>\n",
       "      <td>5.0</td>\n",
       "    </tr>\n",
       "    <tr>\n",
       "      <th>Solitary (2016)</th>\n",
       "      <td>5.0</td>\n",
       "    </tr>\n",
       "    <tr>\n",
       "      <th>Spreading Darkness (2017)</th>\n",
       "      <td>5.0</td>\n",
       "    </tr>\n",
       "    <tr>\n",
       "      <th>Sole Proprietor (2016)</th>\n",
       "      <td>5.0</td>\n",
       "    </tr>\n",
       "    <tr>\n",
       "      <th>After the Sun Fell (2017)</th>\n",
       "      <td>5.0</td>\n",
       "    </tr>\n",
       "    <tr>\n",
       "      <th>Solanin (2010)</th>\n",
       "      <td>5.0</td>\n",
       "    </tr>\n",
       "    <tr>\n",
       "      <th>Ghost (2010)</th>\n",
       "      <td>5.0</td>\n",
       "    </tr>\n",
       "    <tr>\n",
       "      <th>Ghostline (2015)</th>\n",
       "      <td>5.0</td>\n",
       "    </tr>\n",
       "  </tbody>\n",
       "</table>\n",
       "</div>"
      ],
      "text/plain": [
       "                                rating\n",
       "title                                 \n",
       "Full of Grace (2015)               5.0\n",
       "Geordie (1955)                     5.0\n",
       "Garfield In Paradise (1986)        5.0\n",
       "Lost Woods (2012)                  5.0\n",
       "Garfield in the Rough (1984)       5.0\n",
       "Lost Time (2014)                   5.0\n",
       "Who Killed Chea Vichea? (2010)     5.0\n",
       "Lost Rivers (2013)                 5.0\n",
       "Who Killed Johnny (2013)           5.0\n",
       "Generation Baby Buster (2011)      5.0\n",
       "Genesis                            5.0\n",
       "Loss Prevention (2015)             5.0\n",
       "Genius on Hold (2013)              5.0\n",
       "Solitary (2016)                    5.0\n",
       "Spreading Darkness (2017)          5.0\n",
       "Sole Proprietor (2016)             5.0\n",
       "After the Sun Fell (2017)          5.0\n",
       "Solanin (2010)                     5.0\n",
       "Ghost (2010)                       5.0\n",
       "Ghostline (2015)                   5.0"
      ]
     },
     "execution_count": 5,
     "metadata": {},
     "output_type": "execute_result"
    }
   ],
   "source": [
    "Average_ratings.sort_values(by='rating', ascending=False).head(20)"
   ]
  },
  {
   "cell_type": "markdown",
   "id": "caeafa28-f7dc-4da2-888f-e7616d52fb28",
   "metadata": {},
   "source": [
    "### good movies normally receive higher ratings"
   ]
  },
  {
   "cell_type": "code",
   "execution_count": 6,
   "id": "a8001e2f-7594-4a86-89af-8a5eabeca67b",
   "metadata": {},
   "outputs": [
    {
     "data": {
      "text/plain": [
       "title\n",
       "Forrest Gump (1994)                 81491\n",
       "Shawshank Redemption, The (1994)    81482\n",
       "Pulp Fiction (1994)                 79672\n",
       "Silence of the Lambs, The (1991)    74127\n",
       "Matrix, The (1999)                  72674\n",
       "Name: rating, dtype: int64"
      ]
     },
     "execution_count": 6,
     "metadata": {},
     "output_type": "execute_result"
    }
   ],
   "source": [
    "data.groupby('title')['rating'].count().sort_values(ascending=False).head()"
   ]
  },
  {
   "cell_type": "code",
   "execution_count": 7,
   "id": "7f2dae46-8954-4cdf-82c8-756c50843d0a",
   "metadata": {},
   "outputs": [],
   "source": [
    "Average_ratings['rating_counts'] = pd.DataFrame(data.groupby('title')['rating'].count())"
   ]
  },
  {
   "cell_type": "code",
   "execution_count": 8,
   "id": "1890a6e6-4e8d-4c99-8683-9120a07e5a73",
   "metadata": {},
   "outputs": [
    {
     "data": {
      "text/html": [
       "<div>\n",
       "<style scoped>\n",
       "    .dataframe tbody tr th:only-of-type {\n",
       "        vertical-align: middle;\n",
       "    }\n",
       "\n",
       "    .dataframe tbody tr th {\n",
       "        vertical-align: top;\n",
       "    }\n",
       "\n",
       "    .dataframe thead th {\n",
       "        text-align: right;\n",
       "    }\n",
       "</style>\n",
       "<table border=\"1\" class=\"dataframe\">\n",
       "  <thead>\n",
       "    <tr style=\"text-align: right;\">\n",
       "      <th></th>\n",
       "      <th>rating</th>\n",
       "      <th>rating_counts</th>\n",
       "    </tr>\n",
       "    <tr>\n",
       "      <th>title</th>\n",
       "      <th></th>\n",
       "      <th></th>\n",
       "    </tr>\n",
       "  </thead>\n",
       "  <tbody>\n",
       "    <tr>\n",
       "      <th>\"BLOW THE NIGHT!\" Let's Spend the Night Together (1983)</th>\n",
       "      <td>3.000000</td>\n",
       "      <td>1</td>\n",
       "    </tr>\n",
       "    <tr>\n",
       "      <th>\"Great Performances\" Cats (1998)</th>\n",
       "      <td>2.896648</td>\n",
       "      <td>179</td>\n",
       "    </tr>\n",
       "    <tr>\n",
       "      <th>#1 Cheerleader Camp (2010)</th>\n",
       "      <td>2.111111</td>\n",
       "      <td>9</td>\n",
       "    </tr>\n",
       "    <tr>\n",
       "      <th>#Captured (2017)</th>\n",
       "      <td>3.750000</td>\n",
       "      <td>2</td>\n",
       "    </tr>\n",
       "    <tr>\n",
       "      <th>#Female Pleasure (2018)</th>\n",
       "      <td>3.666667</td>\n",
       "      <td>3</td>\n",
       "    </tr>\n",
       "    <tr>\n",
       "      <th>...</th>\n",
       "      <td>...</td>\n",
       "      <td>...</td>\n",
       "    </tr>\n",
       "    <tr>\n",
       "      <th>…And the Fifth Horseman Is Fear (1965)</th>\n",
       "      <td>3.250000</td>\n",
       "      <td>2</td>\n",
       "    </tr>\n",
       "    <tr>\n",
       "      <th>キサラギ (2007)</th>\n",
       "      <td>3.250000</td>\n",
       "      <td>2</td>\n",
       "    </tr>\n",
       "    <tr>\n",
       "      <th>チェブラーシカ (2010)</th>\n",
       "      <td>3.166667</td>\n",
       "      <td>9</td>\n",
       "    </tr>\n",
       "    <tr>\n",
       "      <th>貞子3D (2012)</th>\n",
       "      <td>2.375000</td>\n",
       "      <td>12</td>\n",
       "    </tr>\n",
       "    <tr>\n",
       "      <th>줄탁동시 (2012)</th>\n",
       "      <td>4.000000</td>\n",
       "      <td>2</td>\n",
       "    </tr>\n",
       "  </tbody>\n",
       "</table>\n",
       "<p>58958 rows × 2 columns</p>\n",
       "</div>"
      ],
      "text/plain": [
       "                                                      rating  rating_counts\n",
       "title                                                                      \n",
       "\"BLOW THE NIGHT!\" Let's Spend the Night Togethe...  3.000000              1\n",
       "\"Great Performances\" Cats (1998)                    2.896648            179\n",
       "#1 Cheerleader Camp (2010)                          2.111111              9\n",
       "#Captured (2017)                                    3.750000              2\n",
       "#Female Pleasure (2018)                             3.666667              3\n",
       "...                                                      ...            ...\n",
       "…And the Fifth Horseman Is Fear (1965)              3.250000              2\n",
       "キサラギ (2007)                                         3.250000              2\n",
       "チェブラーシカ (2010)                                      3.166667              9\n",
       "貞子3D (2012)                                         2.375000             12\n",
       "줄탁동시 (2012)                                         4.000000              2\n",
       "\n",
       "[58958 rows x 2 columns]"
      ]
     },
     "execution_count": 8,
     "metadata": {},
     "output_type": "execute_result"
    }
   ],
   "source": [
    "Average_ratings"
   ]
  },
  {
   "cell_type": "code",
   "execution_count": 9,
   "id": "29ac7d3a-68f3-4f76-9ce7-af18c3b114a1",
   "metadata": {},
   "outputs": [],
   "source": [
    "data_movies = movies.merge(Average_ratings, left_on='title', right_on='title', how='left')"
   ]
  },
  {
   "cell_type": "code",
   "execution_count": 10,
   "id": "1085ba41-c48c-4240-82c4-f92737fb9e20",
   "metadata": {},
   "outputs": [],
   "source": [
    "data_movies = data_movies.drop(['rating'], axis=1)"
   ]
  },
  {
   "cell_type": "code",
   "execution_count": 11,
   "id": "5a0e4daf-3c8b-493f-a984-512b2bdb0f38",
   "metadata": {},
   "outputs": [],
   "source": [
    "data_movies = data_movies.merge(rates,left_on='movieId', right_on='movieId', how='left')"
   ]
  },
  {
   "cell_type": "code",
   "execution_count": 12,
   "id": "e26d569e-2deb-4cdd-a327-d99127169797",
   "metadata": {},
   "outputs": [
    {
     "data": {
      "text/html": [
       "<div>\n",
       "<style scoped>\n",
       "    .dataframe tbody tr th:only-of-type {\n",
       "        vertical-align: middle;\n",
       "    }\n",
       "\n",
       "    .dataframe tbody tr th {\n",
       "        vertical-align: top;\n",
       "    }\n",
       "\n",
       "    .dataframe thead th {\n",
       "        text-align: right;\n",
       "    }\n",
       "</style>\n",
       "<table border=\"1\" class=\"dataframe\">\n",
       "  <thead>\n",
       "    <tr style=\"text-align: right;\">\n",
       "      <th>userId</th>\n",
       "      <th>1.0</th>\n",
       "      <th>2.0</th>\n",
       "      <th>3.0</th>\n",
       "      <th>4.0</th>\n",
       "      <th>5.0</th>\n",
       "      <th>6.0</th>\n",
       "      <th>7.0</th>\n",
       "      <th>8.0</th>\n",
       "      <th>9.0</th>\n",
       "      <th>10.0</th>\n",
       "      <th>...</th>\n",
       "      <th>162532.0</th>\n",
       "      <th>162533.0</th>\n",
       "      <th>162534.0</th>\n",
       "      <th>162535.0</th>\n",
       "      <th>162536.0</th>\n",
       "      <th>162537.0</th>\n",
       "      <th>162538.0</th>\n",
       "      <th>162539.0</th>\n",
       "      <th>162540.0</th>\n",
       "      <th>162541.0</th>\n",
       "    </tr>\n",
       "    <tr>\n",
       "      <th>title</th>\n",
       "      <th></th>\n",
       "      <th></th>\n",
       "      <th></th>\n",
       "      <th></th>\n",
       "      <th></th>\n",
       "      <th></th>\n",
       "      <th></th>\n",
       "      <th></th>\n",
       "      <th></th>\n",
       "      <th></th>\n",
       "      <th></th>\n",
       "      <th></th>\n",
       "      <th></th>\n",
       "      <th></th>\n",
       "      <th></th>\n",
       "      <th></th>\n",
       "      <th></th>\n",
       "      <th></th>\n",
       "      <th></th>\n",
       "      <th></th>\n",
       "      <th></th>\n",
       "    </tr>\n",
       "  </thead>\n",
       "  <tbody>\n",
       "    <tr>\n",
       "      <th>\"BLOW THE NIGHT!\" Let's Spend the Night Together (1983)</th>\n",
       "      <td>0.0</td>\n",
       "      <td>0.0</td>\n",
       "      <td>0.0</td>\n",
       "      <td>0.0</td>\n",
       "      <td>0.0</td>\n",
       "      <td>0.0</td>\n",
       "      <td>0.0</td>\n",
       "      <td>0.0</td>\n",
       "      <td>0.0</td>\n",
       "      <td>0.0</td>\n",
       "      <td>...</td>\n",
       "      <td>0.0</td>\n",
       "      <td>0.0</td>\n",
       "      <td>0.0</td>\n",
       "      <td>0.0</td>\n",
       "      <td>0.0</td>\n",
       "      <td>0.0</td>\n",
       "      <td>0.0</td>\n",
       "      <td>0.0</td>\n",
       "      <td>0.0</td>\n",
       "      <td>0.0</td>\n",
       "    </tr>\n",
       "    <tr>\n",
       "      <th>\"Great Performances\" Cats (1998)</th>\n",
       "      <td>0.0</td>\n",
       "      <td>0.0</td>\n",
       "      <td>0.0</td>\n",
       "      <td>0.0</td>\n",
       "      <td>0.0</td>\n",
       "      <td>0.0</td>\n",
       "      <td>0.0</td>\n",
       "      <td>0.0</td>\n",
       "      <td>0.0</td>\n",
       "      <td>0.0</td>\n",
       "      <td>...</td>\n",
       "      <td>0.0</td>\n",
       "      <td>0.0</td>\n",
       "      <td>0.0</td>\n",
       "      <td>0.0</td>\n",
       "      <td>0.0</td>\n",
       "      <td>0.0</td>\n",
       "      <td>0.0</td>\n",
       "      <td>0.0</td>\n",
       "      <td>0.0</td>\n",
       "      <td>0.0</td>\n",
       "    </tr>\n",
       "    <tr>\n",
       "      <th>#1 Cheerleader Camp (2010)</th>\n",
       "      <td>0.0</td>\n",
       "      <td>0.0</td>\n",
       "      <td>0.0</td>\n",
       "      <td>0.0</td>\n",
       "      <td>0.0</td>\n",
       "      <td>0.0</td>\n",
       "      <td>0.0</td>\n",
       "      <td>0.0</td>\n",
       "      <td>0.0</td>\n",
       "      <td>0.0</td>\n",
       "      <td>...</td>\n",
       "      <td>0.0</td>\n",
       "      <td>0.0</td>\n",
       "      <td>0.0</td>\n",
       "      <td>0.0</td>\n",
       "      <td>0.0</td>\n",
       "      <td>0.0</td>\n",
       "      <td>0.0</td>\n",
       "      <td>0.0</td>\n",
       "      <td>0.0</td>\n",
       "      <td>0.0</td>\n",
       "    </tr>\n",
       "    <tr>\n",
       "      <th>#Captured (2017)</th>\n",
       "      <td>0.0</td>\n",
       "      <td>0.0</td>\n",
       "      <td>0.0</td>\n",
       "      <td>0.0</td>\n",
       "      <td>0.0</td>\n",
       "      <td>0.0</td>\n",
       "      <td>0.0</td>\n",
       "      <td>0.0</td>\n",
       "      <td>0.0</td>\n",
       "      <td>0.0</td>\n",
       "      <td>...</td>\n",
       "      <td>0.0</td>\n",
       "      <td>0.0</td>\n",
       "      <td>0.0</td>\n",
       "      <td>0.0</td>\n",
       "      <td>0.0</td>\n",
       "      <td>0.0</td>\n",
       "      <td>0.0</td>\n",
       "      <td>0.0</td>\n",
       "      <td>0.0</td>\n",
       "      <td>0.0</td>\n",
       "    </tr>\n",
       "    <tr>\n",
       "      <th>#Female Pleasure (2018)</th>\n",
       "      <td>0.0</td>\n",
       "      <td>0.0</td>\n",
       "      <td>0.0</td>\n",
       "      <td>0.0</td>\n",
       "      <td>0.0</td>\n",
       "      <td>0.0</td>\n",
       "      <td>0.0</td>\n",
       "      <td>0.0</td>\n",
       "      <td>0.0</td>\n",
       "      <td>0.0</td>\n",
       "      <td>...</td>\n",
       "      <td>0.0</td>\n",
       "      <td>0.0</td>\n",
       "      <td>0.0</td>\n",
       "      <td>0.0</td>\n",
       "      <td>0.0</td>\n",
       "      <td>0.0</td>\n",
       "      <td>0.0</td>\n",
       "      <td>0.0</td>\n",
       "      <td>0.0</td>\n",
       "      <td>0.0</td>\n",
       "    </tr>\n",
       "  </tbody>\n",
       "</table>\n",
       "<p>5 rows × 162541 columns</p>\n",
       "</div>"
      ],
      "text/plain": [
       "userId                                              1.0       2.0       \\\n",
       "title                                                                    \n",
       "\"BLOW THE NIGHT!\" Let's Spend the Night Togethe...       0.0       0.0   \n",
       "\"Great Performances\" Cats (1998)                         0.0       0.0   \n",
       "#1 Cheerleader Camp (2010)                               0.0       0.0   \n",
       "#Captured (2017)                                         0.0       0.0   \n",
       "#Female Pleasure (2018)                                  0.0       0.0   \n",
       "\n",
       "userId                                              3.0       4.0       \\\n",
       "title                                                                    \n",
       "\"BLOW THE NIGHT!\" Let's Spend the Night Togethe...       0.0       0.0   \n",
       "\"Great Performances\" Cats (1998)                         0.0       0.0   \n",
       "#1 Cheerleader Camp (2010)                               0.0       0.0   \n",
       "#Captured (2017)                                         0.0       0.0   \n",
       "#Female Pleasure (2018)                                  0.0       0.0   \n",
       "\n",
       "userId                                              5.0       6.0       \\\n",
       "title                                                                    \n",
       "\"BLOW THE NIGHT!\" Let's Spend the Night Togethe...       0.0       0.0   \n",
       "\"Great Performances\" Cats (1998)                         0.0       0.0   \n",
       "#1 Cheerleader Camp (2010)                               0.0       0.0   \n",
       "#Captured (2017)                                         0.0       0.0   \n",
       "#Female Pleasure (2018)                                  0.0       0.0   \n",
       "\n",
       "userId                                              7.0       8.0       \\\n",
       "title                                                                    \n",
       "\"BLOW THE NIGHT!\" Let's Spend the Night Togethe...       0.0       0.0   \n",
       "\"Great Performances\" Cats (1998)                         0.0       0.0   \n",
       "#1 Cheerleader Camp (2010)                               0.0       0.0   \n",
       "#Captured (2017)                                         0.0       0.0   \n",
       "#Female Pleasure (2018)                                  0.0       0.0   \n",
       "\n",
       "userId                                              9.0       10.0      ...  \\\n",
       "title                                                                   ...   \n",
       "\"BLOW THE NIGHT!\" Let's Spend the Night Togethe...       0.0       0.0  ...   \n",
       "\"Great Performances\" Cats (1998)                         0.0       0.0  ...   \n",
       "#1 Cheerleader Camp (2010)                               0.0       0.0  ...   \n",
       "#Captured (2017)                                         0.0       0.0  ...   \n",
       "#Female Pleasure (2018)                                  0.0       0.0  ...   \n",
       "\n",
       "userId                                              162532.0  162533.0  \\\n",
       "title                                                                    \n",
       "\"BLOW THE NIGHT!\" Let's Spend the Night Togethe...       0.0       0.0   \n",
       "\"Great Performances\" Cats (1998)                         0.0       0.0   \n",
       "#1 Cheerleader Camp (2010)                               0.0       0.0   \n",
       "#Captured (2017)                                         0.0       0.0   \n",
       "#Female Pleasure (2018)                                  0.0       0.0   \n",
       "\n",
       "userId                                              162534.0  162535.0  \\\n",
       "title                                                                    \n",
       "\"BLOW THE NIGHT!\" Let's Spend the Night Togethe...       0.0       0.0   \n",
       "\"Great Performances\" Cats (1998)                         0.0       0.0   \n",
       "#1 Cheerleader Camp (2010)                               0.0       0.0   \n",
       "#Captured (2017)                                         0.0       0.0   \n",
       "#Female Pleasure (2018)                                  0.0       0.0   \n",
       "\n",
       "userId                                              162536.0  162537.0  \\\n",
       "title                                                                    \n",
       "\"BLOW THE NIGHT!\" Let's Spend the Night Togethe...       0.0       0.0   \n",
       "\"Great Performances\" Cats (1998)                         0.0       0.0   \n",
       "#1 Cheerleader Camp (2010)                               0.0       0.0   \n",
       "#Captured (2017)                                         0.0       0.0   \n",
       "#Female Pleasure (2018)                                  0.0       0.0   \n",
       "\n",
       "userId                                              162538.0  162539.0  \\\n",
       "title                                                                    \n",
       "\"BLOW THE NIGHT!\" Let's Spend the Night Togethe...       0.0       0.0   \n",
       "\"Great Performances\" Cats (1998)                         0.0       0.0   \n",
       "#1 Cheerleader Camp (2010)                               0.0       0.0   \n",
       "#Captured (2017)                                         0.0       0.0   \n",
       "#Female Pleasure (2018)                                  0.0       0.0   \n",
       "\n",
       "userId                                              162540.0  162541.0  \n",
       "title                                                                   \n",
       "\"BLOW THE NIGHT!\" Let's Spend the Night Togethe...       0.0       0.0  \n",
       "\"Great Performances\" Cats (1998)                         0.0       0.0  \n",
       "#1 Cheerleader Camp (2010)                               0.0       0.0  \n",
       "#Captured (2017)                                         0.0       0.0  \n",
       "#Female Pleasure (2018)                                  0.0       0.0  \n",
       "\n",
       "[5 rows x 162541 columns]"
      ]
     },
     "execution_count": 12,
     "metadata": {},
     "output_type": "execute_result"
    }
   ],
   "source": [
    "features = data_movies.pivot_table(index='title', columns='userId', values='rating').fillna(0)\n",
    "features.head()"
   ]
  },
  {
   "cell_type": "code",
   "execution_count": 13,
   "id": "f21037fd-6ff1-4dd7-8169-746c5e008afa",
   "metadata": {},
   "outputs": [],
   "source": [
    "#from scipy.sparse import csr_matrix\n",
    "#features_matrix = csr_matrix(features.values)   \n",
    "#features_matrix"
   ]
  },
  {
   "cell_type": "code",
   "execution_count": 18,
   "id": "f0068d8f-110e-4060-87f2-3b249ed61826",
   "metadata": {},
   "outputs": [
    {
     "data": {
      "text/plain": [
       "NearestNeighbors(algorithm='brute', metric='cosine')"
      ]
     },
     "execution_count": 18,
     "metadata": {},
     "output_type": "execute_result"
    }
   ],
   "source": [
    "from sklearn.neighbors import NearestNeighbors   \n",
    "model = NearestNeighbors(metric = \"cosine\", algorithm = 'brute')\n",
    "model.fit(features.values)    "
   ]
  },
  {
   "cell_type": "code",
   "execution_count": 19,
   "id": "ed6d6929-1efa-4915-ab9a-6490e26f42d1",
   "metadata": {},
   "outputs": [
    {
     "name": "stdout",
     "output_type": "stream",
     "text": [
      "37942\n"
     ]
    }
   ],
   "source": [
    "# Taking a new movie at random\n",
    "query_index = np.random.choice(features.shape[0])    # Collect 1 record\n",
    "print(query_index)"
   ]
  },
  {
   "cell_type": "code",
   "execution_count": 20,
   "id": "1f507154-b4e2-4197-bcd0-8e73382112ff",
   "metadata": {},
   "outputs": [],
   "source": [
    "distances, indices = model.kneighbors(features.iloc[query_index,:].values.reshape(1, -1), n_neighbors=6)"
   ]
  },
  {
   "cell_type": "code",
   "execution_count": 21,
   "id": "66f1ea19-c89b-4ff2-808f-0fb7f8f79f82",
   "metadata": {},
   "outputs": [
    {
     "name": "stdout",
     "output_type": "stream",
     "text": [
      "Recommendations for Purple Ball, The (Lilovyy shar) (1987):\n",
      "\n",
      "1: Decision: Liquidation (2018), with distance of 0.3374305545539259:\n",
      "2: Aladdin and His Magic Lamp (1967), with distance of 0.3374413909867475:\n",
      "3: Caravaggio (2007), with distance of 0.3387549253315545:\n",
      "4: Longitude (2000), with distance of 0.3397347176941904:\n",
      "5: Совершенно серьезно (1961), with distance of 0.3483688807477888:\n"
     ]
    }
   ],
   "source": [
    "# Print top 5 movie recommendations for a random movie along with the distances from original movie\n",
    "\n",
    "for i in range(0, len(distances.flatten())):   \n",
    "    if(i==0):\n",
    "        print(\"Recommendations for {0}:\\n\".format(features.index[query_index]))    \n",
    "    else:\n",
    "        print(\"{0}: {1}, with distance of {2}:\".format(i, features.index[indices.flatten()[i]], distances.flatten()[i]))"
   ]
  },
  {
   "cell_type": "markdown",
   "id": "a4f87e7d-22d1-444f-8029-d369228d658c",
   "metadata": {},
   "source": [
    "### Some random analysis"
   ]
  },
  {
   "cell_type": "code",
   "execution_count": 20,
   "id": "d316c66c-affa-403d-b892-09ee0c89cbe5",
   "metadata": {},
   "outputs": [
    {
     "data": {
      "image/png": "[encoded data removed]",
      "text/plain": [
       "<Figure size 432x288 with 1 Axes>"
      ]
     },
     "metadata": {
      "needs_background": "light"
     },
     "output_type": "display_data"
    }
   ],
   "source": [
    "Average_ratings.boxplot(column=['rating_counts']);"
   ]
  },
  {
   "cell_type": "code",
   "execution_count": 19,
   "id": "7cdbfe74-7eeb-42ab-aad7-7d3c275da3bc",
   "metadata": {},
   "outputs": [
    {
     "data": {
      "image/png": "[encoded data removed]",
      "text/plain": [
       "<Figure size 720x576 with 1 Axes>"
      ]
     },
     "metadata": {
      "needs_background": "light"
     },
     "output_type": "display_data"
    }
   ],
   "source": [
    "plt.figure(figsize=(10,8))\n",
    "plt.rcParams['patch.force_edgecolor'] = True\n",
    "Average_ratings['rating_counts'].hist(bins=100);"
   ]
  },
  {
   "cell_type": "code",
   "execution_count": 22,
   "id": "a60e9ea6-087d-4f71-8c55-7982dec260d2",
   "metadata": {},
   "outputs": [
    {
     "data": {
      "text/plain": [
       "<Figure size 720x576 with 0 Axes>"
      ]
     },
     "metadata": {},
     "output_type": "display_data"
    },
    {
     "data": {
      "image/png": "[encoded data removed]",
      "text/plain": [
       "<Figure size 432x432 with 3 Axes>"
      ]
     },
     "metadata": {
      "needs_background": "light"
     },
     "output_type": "display_data"
    }
   ],
   "source": [
    "plt.figure(figsize=(10,8))\n",
    "plt.rcParams['patch.force_edgecolor'] = True\n",
    "sns.jointplot(x='rating', y='rating_counts', data=Average_ratings, alpha=0.4);"
   ]
  },
  {
   "cell_type": "code",
   "execution_count": null,
   "id": "f42e0a5c-a587-44d1-b8bc-b2ee2efa1953",
   "metadata": {},
   "outputs": [],
   "source": []
  }
 ],
 "metadata": {
  "kernelspec": {
   "display_name": "Python 3 (ipykernel)",
   "language": "python",
   "name": "python3"
  },
  "language_info": {
   "codemirror_mode": {
    "name": "ipython",
    "version": 3
   },
   "file_extension": ".py",
   "mimetype": "text/x-python",
   "name": "python",
   "nbconvert_exporter": "python",
   "pygments_lexer": "ipython3",
   "version": "3.8.8"
  }
 },
 "nbformat": 4,
 "nbformat_minor": 5
}
