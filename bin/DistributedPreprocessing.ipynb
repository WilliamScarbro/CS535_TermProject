{
 "cells": [
  {
   "cell_type": "code",
   "execution_count": 5,
   "id": "588ecb85",
   "metadata": {},
   "outputs": [
    {
     "name": "stdout",
     "output_type": "stream",
     "text": [
      "Spark Version: 3.0.3\n",
      "PySpark Version: 3.0.3\n"
     ]
    }
   ],
   "source": [
    "import os\n",
    "import pyspark\n",
    "from pyspark.sql import SQLContext, SparkSession\n",
    "\n",
    "# change \"pierre.cs.colsotate.edu\" to the name of your spark master node\n",
    "SPARK_NODE=\"pierre.cs.colostate.edu\"\n",
    "\n",
    "\n",
    "# 31820 corresponds to SPARK_MASTER_PORT in $SPARK_HOME/conf/spark-env.sh\n",
    "SPARK_PORT=31820\n",
    "\n",
    "spark = SparkSession.builder.master('spark://{}:{}'.format(SPARK_NODE,SPARK_PORT)).appName('test').getOrCreate()\n",
    "\n",
    "sqlContext = SQLContext(sparkContext=spark.sparkContext, sparkSession=spark)\n",
    "print(\"Spark Version: \" + spark.version)\n",
    "print(\"PySpark Version: \" + pyspark.__version__)"
   ]
  },
  {
   "cell_type": "code",
   "execution_count": 6,
   "id": "8b9a75a7",
   "metadata": {},
   "outputs": [],
   "source": [
    "from pyspark.ml.feature import MinMaxScaler\n",
    "from pyspark.ml.linalg import Vectors\n",
    "from pyspark.ml.feature import  StandardScaler"
   ]
  },
  {
   "cell_type": "markdown",
   "id": "3031ddde",
   "metadata": {},
   "source": [
    "## Remove users with few ratings\n",
    "\n",
    "ratings.json -> output/filtered_ratings.json\n",
    "\n",
    "Description: filtered_ratings contains only ratings from users with more than 4 ratings"
   ]
  },
  {
   "cell_type": "code",
   "execution_count": 7,
   "id": "1d55175f",
   "metadata": {},
   "outputs": [
    {
     "name": "stdout",
     "output_type": "stream",
     "text": [
      "+-------+------+-------+\n",
      "|item_id|rating|user_id|\n",
      "+-------+------+-------+\n",
      "|      5|   3.0| 997206|\n",
      "|     10|   4.0| 997206|\n",
      "|     13|   4.0| 997206|\n",
      "|     17|   5.0| 997206|\n",
      "|     21|   4.0| 997206|\n",
      "|     28|   5.0| 997206|\n",
      "|     31|   4.0| 997206|\n",
      "|     39|   3.0| 997206|\n",
      "|     40|   4.0| 997206|\n",
      "|     45|   2.0| 997206|\n",
      "|     46|   4.0| 997206|\n",
      "|     50|   5.0| 997206|\n",
      "|     62|   4.0| 997206|\n",
      "|     74|   5.0| 997206|\n",
      "|     85|   2.0| 997206|\n",
      "|    110|   5.0| 997206|\n",
      "|    112|   4.0| 997206|\n",
      "|    141|   4.0| 997206|\n",
      "|    150|   3.0| 997206|\n",
      "|    161|   3.0| 997206|\n",
      "+-------+------+-------+\n",
      "only showing top 20 rows\n",
      "\n"
     ]
    }
   ],
   "source": [
    "ratings=spark.read.json(\"/FP/ratings.json\")\n",
    "\n",
    "ratings.show()"
   ]
  },
  {
   "cell_type": "code",
   "execution_count": 8,
   "id": "8d8b345a",
   "metadata": {},
   "outputs": [
    {
     "name": "stdout",
     "output_type": "stream",
     "text": [
      "total_ratings 28490116\n",
      "total_users 247383\n",
      "avg_ratings_per_user 115.16602191743168\n"
     ]
    }
   ],
   "source": [
    "ratings_mod_user_id = ratings.groupby(\"user_id\").count()\n",
    "total_ratings=ratings.count()\n",
    "total_users=ratings_mod_user_id.count()\n",
    "\n",
    "avg_ratings_per_user = total_ratings / total_users\n",
    "\n",
    "print(\"total_ratings\",total_ratings)\n",
    "print(\"total_users\",total_users)\n",
    "print(\"avg_ratings_per_user\",avg_ratings_per_user)\n",
    "\n",
    "more_than_four = ratings_mod_user_id.filter(\"count>4\")\n",
    "filtered_ratings = more_than_four.join(ratings,more_than_four.user_id == ratings.user_id).select(ratings.user_id,\"item_id\",\"rating\")"
   ]
  },
  {
   "cell_type": "code",
   "execution_count": 13,
   "id": "78b4bacd",
   "metadata": {},
   "outputs": [
    {
     "name": "stdout",
     "output_type": "stream",
     "text": [
      "before 28490116\n",
      "after 28462184\n"
     ]
    }
   ],
   "source": [
    "print(\"before\",total_ratings)\n",
    "print(\"after\",filtered_ratings.count())"
   ]
  },
  {
   "cell_type": "code",
   "execution_count": 11,
   "id": "a361c7e7",
   "metadata": {},
   "outputs": [],
   "source": [
    "filtered_ratings.write.mode('overwrite').json(\"/FP/output/filtered_ratings.json\")"
   ]
  },
  {
   "cell_type": "markdown",
   "id": "6afe77a5",
   "metadata": {},
   "source": [
    "## Normalize rating per user\n",
    "\n",
    "filtered_ratings.json -> output/norm_ratings.json\n",
    "\n",
    "Description: norm_ratings.json normalizes each rating accross the set of ratings for the same user.\n",
    "\n",
    "\n",
    "normalization: $r`=r/\\mu_R - 1$"
   ]
  },
  {
   "cell_type": "code",
   "execution_count": 12,
   "id": "2cc56418",
   "metadata": {},
   "outputs": [],
   "source": [
    "#filtered_ratings=spark.read.json(\"/FP/output/filtered_ratings.json\")\n",
    "ratings_sum_mod_userid = filtered_ratings.groupby(\"user_id\").sum(\"rating\")\n",
    "ratings_count_mod_userid = filtered_ratings.groupby(\"user_id\").count()\n",
    "\n",
    "ratings_mod_userid = ratings_sum_mod_userid.join(ratings_count_mod_userid,\\\n",
    "                                                 ratings_sum_mod_userid.user_id==ratings_count_mod_userid.user_id,\n",
    "                                                ).select(ratings_sum_mod_userid.user_id,\"sum(rating)\",\"count\")\n",
    "\n",
    "joined_w_sum = filtered_ratings.join(ratings_mod_userid,filtered_ratings.user_id==ratings_mod_userid.user_id)"
   ]
  },
  {
   "cell_type": "code",
   "execution_count": 13,
   "id": "74da929e",
   "metadata": {},
   "outputs": [],
   "source": [
    "#joined_w_sum.show()\n",
    "\n",
    "normalized_ratings=joined_w_sum.rdd.map(lambda x: (x[\"user_id\"],x[\"item_id\"],\\\n",
    "                                                x[\"rating\"]/x[\"sum(rating)\"]*x[\"count\"]-1)\\\n",
    "                                    ).toDF([\"user_id\",\"item_id\",\"rating\"])"
   ]
  },
  {
   "cell_type": "code",
   "execution_count": 16,
   "id": "156211db",
   "metadata": {},
   "outputs": [
    {
     "name": "stdout",
     "output_type": "stream",
     "text": [
      "+-------+-------+--------------------+\n",
      "|user_id|item_id|              rating|\n",
      "+-------+-------+--------------------+\n",
      "|     26|    318| 0.06666666666666665|\n",
      "|     26|   2959| 0.06666666666666665|\n",
      "|     26|   3793|-0.04000000000000...|\n",
      "|     26|   4226| -0.1466666666666666|\n",
      "|     26|   4993| 0.06666666666666665|\n",
      "|     26|   5952| 0.06666666666666665|\n",
      "|     26|   7153| 0.06666666666666665|\n",
      "|     26| 116823| -0.1466666666666666|\n",
      "|   2529|    153|-0.34545454545454546|\n",
      "|   2529|    165| 0.09090909090909083|\n",
      "|   2529|    356| 0.09090909090909083|\n",
      "|   2529|    434| 0.09090909090909083|\n",
      "|   2529|    586| 0.09090909090909083|\n",
      "|   2529|    587| 0.09090909090909083|\n",
      "|   2529|    589| 0.09090909090909083|\n",
      "|   2529|    590| 0.09090909090909083|\n",
      "|   2529|    592|-0.34545454545454546|\n",
      "|   2529|    593| 0.09090909090909083|\n",
      "|   2529|    595| 0.09090909090909083|\n",
      "|   2529|    597|-0.12727272727272732|\n",
      "+-------+-------+--------------------+\n",
      "only showing top 20 rows\n",
      "\n"
     ]
    }
   ],
   "source": [
    "normalized_ratings.show()\n",
    "normalized_ratings.write.mode('overwrite').json(\"/FP/output/normalized_ratings.json\")"
   ]
  }
 ],
 "metadata": {
  "kernelspec": {
   "display_name": "Python 3",
   "language": "python",
   "name": "python3"
  },
  "language_info": {
   "codemirror_mode": {
    "name": "ipython",
    "version": 3
   },
   "file_extension": ".py",
   "mimetype": "text/x-python",
   "name": "python",
   "nbconvert_exporter": "python",
   "pygments_lexer": "ipython3",
   "version": "3.6.8"
  }
 },
 "nbformat": 4,
 "nbformat_minor": 5
}
